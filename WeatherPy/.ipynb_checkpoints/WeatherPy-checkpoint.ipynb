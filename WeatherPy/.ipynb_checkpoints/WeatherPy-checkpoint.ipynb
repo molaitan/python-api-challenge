{
 "cells": [
  {
   "cell_type": "markdown",
   "metadata": {},
   "source": [
    "# WeatherPy\n",
    "----\n",
    "\n",
    "#### Note\n",
    "* Instructions have been included for each segment. You do not have to follow them exactly, but they are included to help you think through the steps."
   ]
  },
  {
   "cell_type": "code",
   "execution_count": 2,
   "metadata": {},
   "outputs": [],
   "source": [
    "#! pip install citipy"
   ]
  },
  {
   "cell_type": "code",
   "execution_count": 137,
   "metadata": {
    "scrolled": true
   },
   "outputs": [],
   "source": [
    "# Dependencies and Setup\n",
    "import matplotlib.pyplot as plt\n",
    "import pandas as pd\n",
    "import numpy as np\n",
    "import requests\n",
    "import time\n",
    "from scipy.stats import linregress\n",
    "\n",
    "# Import API key\n",
    "from api_keys import weather_api_key\n",
    "\n",
    "\n",
    "# Incorporated citipy to determine city based on latitude and longitude\n",
    "from citipy import citipy\n",
    "\n",
    "# Output File (CSV)\n",
    "output_data_file = \"output_data/cities.csv\"\n",
    "\n",
    "# Range of latitudes and longitudes\n",
    "lat_range = (-90, 90)\n",
    "lng_range = (-180, 180)"
   ]
  },
  {
   "cell_type": "markdown",
   "metadata": {},
   "source": [
    "## Generate Cities List"
   ]
  },
  {
   "cell_type": "code",
   "execution_count": 138,
   "metadata": {},
   "outputs": [
    {
     "data": {
      "text/plain": [
       "604"
      ]
     },
     "execution_count": 138,
     "metadata": {},
     "output_type": "execute_result"
    }
   ],
   "source": [
    "# List for holding lat_lngs and cities\n",
    "lat_lngs = []\n",
    "cities = []\n",
    "\n",
    "# Create a set of random lat and lng combinations\n",
    "lats = np.random.uniform(lat_range[0], lat_range[1], size=1500)\n",
    "lngs = np.random.uniform(lng_range[0], lng_range[1], size=1500)\n",
    "lat_lngs = zip(lats, lngs)\n",
    "\n",
    "# Identify nearest city for each lat, lng combination\n",
    "for lat_lng in lat_lngs:\n",
    "    city = citipy.nearest_city(lat_lng[0], lat_lng[1]).city_name\n",
    "    \n",
    "    # If the city is unique, then add it to a our cities list\n",
    "    if city not in cities:\n",
    "        cities.append(city)\n",
    "\n",
    "# Print the city count to confirm sufficient count\n",
    "len(cities)"
   ]
  },
  {
   "cell_type": "markdown",
   "metadata": {},
   "source": [
    "### Perform API Calls\n",
    "* Perform a weather check on each city using a series of successive API calls.\n",
    "* Include a print log of each city as it'sbeing processed (with the city number and city name).\n",
    "\n",
    "> **HINT:** The OpenWeatherMap API only allows 60 calls per minute under their free plan. Try using `time.sleep(60)` after each set of 50 cities to avoid API errors due to large calls."
   ]
  },
  {
   "cell_type": "code",
   "execution_count": 5,
   "metadata": {},
   "outputs": [
    {
     "name": "stdout",
     "output_type": "stream",
     "text": [
      "Beginning Data Retrieval\n",
      "-----------------------------\n",
      "Processing Record 1 of Set 1 | provideniya\n",
      "City not found. Skipping...\n",
      "Processing Record 2 of Set 1 | rikitea\n",
      "Processing Record 3 of Set 1 | boguchany\n",
      "Processing Record 4 of Set 1 | feijo\n",
      "Processing Record 5 of Set 1 | megion\n",
      "Processing Record 6 of Set 1 | yomou\n",
      "Processing Record 7 of Set 1 | hermanus\n",
      "City not found. Skipping...\n",
      "Processing Record 8 of Set 1 | jamestown\n",
      "Processing Record 9 of Set 1 | port alfred\n",
      "Processing Record 10 of Set 1 | bandarbeyla\n",
      "Processing Record 11 of Set 1 | ribeira grande\n",
      "City not found. Skipping...\n",
      "Processing Record 12 of Set 1 | vaini\n",
      "Processing Record 13 of Set 1 | ariquemes\n",
      "Processing Record 14 of Set 1 | hobart\n",
      "Processing Record 15 of Set 1 | tasiilaq\n",
      "Processing Record 16 of Set 1 | palamos\n",
      "Processing Record 17 of Set 1 | cape town\n",
      "Processing Record 18 of Set 1 | mega\n",
      "Processing Record 19 of Set 1 | punta arenas\n",
      "City not found. Skipping...\n",
      "City not found. Skipping...\n",
      "Processing Record 20 of Set 1 | khatanga\n",
      "Processing Record 21 of Set 1 | sinnamary\n",
      "Processing Record 22 of Set 1 | bambanglipuro\n",
      "Processing Record 23 of Set 1 | atuona\n",
      "Processing Record 24 of Set 1 | ostrovnoy\n",
      "Processing Record 25 of Set 1 | novodugino\n",
      "Processing Record 26 of Set 1 | bluff\n",
      "Processing Record 27 of Set 1 | atlantic city\n",
      "Processing Record 28 of Set 1 | codrington\n",
      "Processing Record 29 of Set 1 | kapaa\n",
      "Processing Record 30 of Set 1 | avarua\n",
      "Processing Record 31 of Set 1 | bachaquero\n",
      "Processing Record 32 of Set 1 | juneau\n",
      "Processing Record 33 of Set 1 | torbay\n",
      "Processing Record 34 of Set 1 | yellowknife\n",
      "Processing Record 35 of Set 1 | hualmay\n",
      "Processing Record 36 of Set 1 | kayerkan\n",
      "Processing Record 37 of Set 1 | albany\n",
      "Processing Record 38 of Set 1 | alofi\n",
      "Processing Record 39 of Set 1 | lavrentiya\n",
      "Processing Record 40 of Set 1 | galdar\n",
      "Processing Record 41 of Set 1 | mataura\n",
      "Processing Record 42 of Set 1 | ushuaia\n",
      "Processing Record 43 of Set 1 | praia\n",
      "Processing Record 44 of Set 1 | flin flon\n",
      "Processing Record 45 of Set 1 | vardo\n",
      "Processing Record 46 of Set 1 | saint-philippe\n",
      "Processing Record 47 of Set 1 | bredasdorp\n",
      "Processing Record 48 of Set 1 | bonavista\n",
      "City not found. Skipping...\n",
      "Processing Record 49 of Set 1 | lagoa\n",
      "Processing Record 50 of Set 1 | lonavale\n",
      "Processing Record 0 of Set 2 | abadan\n",
      "Processing Record 1 of Set 2 | nikolskoye\n",
      "Processing Record 2 of Set 2 | victoria\n",
      "City not found. Skipping...\n",
      "Processing Record 3 of Set 2 | chokurdakh\n",
      "Processing Record 4 of Set 2 | butaritari\n",
      "City not found. Skipping...\n",
      "Processing Record 5 of Set 2 | mountain home\n",
      "Processing Record 6 of Set 2 | priamurskiy\n",
      "City not found. Skipping...\n",
      "City not found. Skipping...\n",
      "Processing Record 7 of Set 2 | nagato\n",
      "Processing Record 8 of Set 2 | denpasar\n",
      "Processing Record 9 of Set 2 | tiksi\n",
      "Processing Record 10 of Set 2 | upernavik\n",
      "City not found. Skipping...\n",
      "Processing Record 11 of Set 2 | kununurra\n",
      "Processing Record 12 of Set 2 | bethel\n",
      "Processing Record 13 of Set 2 | vestmannaeyjar\n",
      "Processing Record 14 of Set 2 | kamalasai\n",
      "Processing Record 15 of Set 2 | svetlyy\n",
      "Processing Record 16 of Set 2 | barcelos\n",
      "City not found. Skipping...\n",
      "Processing Record 17 of Set 2 | kirakira\n",
      "Processing Record 18 of Set 2 | sitka\n",
      "Processing Record 19 of Set 2 | ancud\n",
      "Processing Record 20 of Set 2 | thompson\n",
      "Processing Record 21 of Set 2 | richards bay\n",
      "Processing Record 22 of Set 2 | mahebourg\n",
      "Processing Record 23 of Set 2 | cidreira\n",
      "Processing Record 24 of Set 2 | sovetskiy\n",
      "Processing Record 25 of Set 2 | ouargaye\n",
      "Processing Record 26 of Set 2 | yar-sale\n",
      "Processing Record 27 of Set 2 | tuktoyaktuk\n",
      "Processing Record 28 of Set 2 | kruisfontein\n",
      "Processing Record 29 of Set 2 | sambava\n",
      "Processing Record 30 of Set 2 | great falls\n",
      "City not found. Skipping...\n",
      "Processing Record 31 of Set 2 | barrow\n",
      "City not found. Skipping...\n",
      "Processing Record 32 of Set 2 | durgapur\n",
      "Processing Record 33 of Set 2 | shirgaon\n",
      "Processing Record 34 of Set 2 | klaksvik\n",
      "Processing Record 35 of Set 2 | coquimbo\n",
      "Processing Record 36 of Set 2 | kibungo\n",
      "Processing Record 37 of Set 2 | marzuq\n",
      "Processing Record 38 of Set 2 | mayumba\n",
      "Processing Record 39 of Set 2 | bonthe\n",
      "Processing Record 40 of Set 2 | carnarvon\n",
      "Processing Record 41 of Set 2 | new norfolk\n",
      "Processing Record 42 of Set 2 | fortuna\n",
      "Processing Record 43 of Set 2 | baculin\n",
      "Processing Record 44 of Set 2 | ternate\n",
      "Processing Record 45 of Set 2 | bengkulu\n",
      "Processing Record 46 of Set 2 | cherskiy\n",
      "Processing Record 47 of Set 2 | yeppoon\n",
      "Processing Record 48 of Set 2 | salalah\n",
      "Processing Record 49 of Set 2 | rawicz\n",
      "Processing Record 50 of Set 2 | airai\n",
      "Processing Record 0 of Set 3 | liku\n",
      "City not found. Skipping...\n",
      "Processing Record 1 of Set 3 | miles city\n",
      "Processing Record 2 of Set 3 | havelock\n",
      "Processing Record 3 of Set 3 | vigrestad\n",
      "Processing Record 4 of Set 3 | aklavik\n",
      "Processing Record 5 of Set 3 | birao\n",
      "City not found. Skipping...\n",
      "Processing Record 6 of Set 3 | saldanha\n",
      "Processing Record 7 of Set 3 | mezen\n",
      "Processing Record 8 of Set 3 | rawson\n",
      "Processing Record 9 of Set 3 | los llanos de aridane\n",
      "Processing Record 10 of Set 3 | pevek\n",
      "City not found. Skipping...\n",
      "Processing Record 11 of Set 3 | burgeo\n",
      "Processing Record 12 of Set 3 | faanui\n",
      "Processing Record 13 of Set 3 | georgetown\n",
      "City not found. Skipping...\n",
      "Processing Record 14 of Set 3 | bujumbura\n",
      "Processing Record 15 of Set 3 | komsomolskiy\n",
      "Processing Record 16 of Set 3 | lebu\n",
      "Processing Record 17 of Set 3 | napasar\n",
      "Processing Record 18 of Set 3 | puerto ayora\n",
      "Processing Record 19 of Set 3 | yumen\n",
      "City not found. Skipping...\n",
      "Processing Record 20 of Set 3 | busselton\n",
      "Processing Record 21 of Set 3 | northam\n",
      "Processing Record 22 of Set 3 | anori\n",
      "Processing Record 23 of Set 3 | natitingou\n",
      "Processing Record 24 of Set 3 | nantucket\n",
      "Processing Record 25 of Set 3 | yei\n",
      "Processing Record 26 of Set 3 | gat\n",
      "Processing Record 27 of Set 3 | hilo\n",
      "Processing Record 28 of Set 3 | biltine\n",
      "Processing Record 29 of Set 3 | assiniboia\n",
      "City not found. Skipping...\n",
      "Processing Record 30 of Set 3 | kurchum\n",
      "Processing Record 31 of Set 3 | davidson\n",
      "Processing Record 32 of Set 3 | nanortalik\n",
      "Processing Record 33 of Set 3 | huilong\n",
      "Processing Record 34 of Set 3 | hithadhoo\n",
      "Processing Record 35 of Set 3 | natal\n",
      "Processing Record 36 of Set 3 | mitsamiouli\n",
      "Processing Record 37 of Set 3 | hastings\n",
      "Processing Record 38 of Set 3 | east london\n",
      "Processing Record 39 of Set 3 | kodinsk\n",
      "Processing Record 40 of Set 3 | sergeyevka\n",
      "Processing Record 41 of Set 3 | villamontes\n",
      "Processing Record 42 of Set 3 | peredovaya\n",
      "Processing Record 43 of Set 3 | cheney\n",
      "Processing Record 44 of Set 3 | aktau\n",
      "Processing Record 45 of Set 3 | benghazi\n",
      "Processing Record 46 of Set 3 | sao joao da barra\n",
      "Processing Record 47 of Set 3 | ilulissat\n",
      "Processing Record 48 of Set 3 | marathon\n",
      "Processing Record 49 of Set 3 | quatre cocos\n",
      "Processing Record 50 of Set 3 | tsogni\n",
      "Processing Record 0 of Set 4 | raymondville\n",
      "Processing Record 1 of Set 4 | ahtopol\n",
      "Processing Record 2 of Set 4 | peace river\n",
      "Processing Record 3 of Set 4 | henties bay\n",
      "Processing Record 4 of Set 4 | lakhdenpokhya\n",
      "City not found. Skipping...\n",
      "Processing Record 5 of Set 4 | aykhal\n",
      "Processing Record 6 of Set 4 | krasnoselkup\n",
      "City not found. Skipping...\n",
      "Processing Record 7 of Set 4 | maceio\n",
      "Processing Record 8 of Set 4 | miri\n",
      "Processing Record 9 of Set 4 | maicao\n",
      "Processing Record 10 of Set 4 | saskylakh\n",
      "Processing Record 11 of Set 4 | bosaso\n",
      "Processing Record 12 of Set 4 | cabo san lucas\n",
      "Processing Record 13 of Set 4 | geraldton\n",
      "Processing Record 14 of Set 4 | faya\n",
      "Processing Record 15 of Set 4 | touros\n",
      "Processing Record 16 of Set 4 | changji\n",
      "Processing Record 17 of Set 4 | mount gambier\n",
      "Processing Record 18 of Set 4 | berlevag\n",
      "Processing Record 19 of Set 4 | warmbad\n",
      "Processing Record 20 of Set 4 | canto do buriti\n",
      "City not found. Skipping...\n",
      "Processing Record 21 of Set 4 | sembe\n",
      "Processing Record 22 of Set 4 | tabou\n",
      "Processing Record 23 of Set 4 | college\n",
      "Processing Record 24 of Set 4 | arica\n",
      "Processing Record 25 of Set 4 | tadine\n",
      "Processing Record 26 of Set 4 | te anau\n",
      "Processing Record 27 of Set 4 | castro\n",
      "City not found. Skipping...\n",
      "Processing Record 28 of Set 4 | wum\n",
      "Processing Record 29 of Set 4 | calvinia\n",
      "Processing Record 30 of Set 4 | severo-kurilsk\n"
     ]
    },
    {
     "name": "stdout",
     "output_type": "stream",
     "text": [
      "Processing Record 31 of Set 4 | casambalangan\n",
      "Processing Record 32 of Set 4 | dunedin\n",
      "Processing Record 33 of Set 4 | dina\n",
      "Processing Record 34 of Set 4 | hanmer springs\n",
      "Processing Record 35 of Set 4 | hofn\n",
      "Processing Record 36 of Set 4 | raudeberg\n",
      "Processing Record 37 of Set 4 | esterhazy\n",
      "Processing Record 38 of Set 4 | sao jose da coroa grande\n",
      "Processing Record 39 of Set 4 | camacha\n",
      "Processing Record 40 of Set 4 | presidencia roque saenz pena\n",
      "Processing Record 41 of Set 4 | zalantun\n",
      "City not found. Skipping...\n",
      "Processing Record 42 of Set 4 | nizwa\n",
      "Processing Record 43 of Set 4 | bathsheba\n",
      "Processing Record 44 of Set 4 | aloleng\n",
      "Processing Record 45 of Set 4 | leningradskiy\n",
      "Processing Record 46 of Set 4 | pisco\n",
      "Processing Record 47 of Set 4 | fort nelson\n",
      "Processing Record 48 of Set 4 | totma\n",
      "Processing Record 49 of Set 4 | umm kaddadah\n",
      "Processing Record 50 of Set 4 | north bend\n",
      "Processing Record 0 of Set 5 | sao filipe\n",
      "Processing Record 1 of Set 5 | tortosa\n",
      "Processing Record 2 of Set 5 | oistins\n",
      "Processing Record 3 of Set 5 | bambous virieux\n",
      "Processing Record 4 of Set 5 | rio grande\n",
      "Processing Record 5 of Set 5 | constitucion\n",
      "Processing Record 6 of Set 5 | pedernales\n",
      "Processing Record 7 of Set 5 | tomatlan\n",
      "Processing Record 8 of Set 5 | clyde river\n",
      "Processing Record 9 of Set 5 | lobito\n",
      "Processing Record 10 of Set 5 | whitecourt\n",
      "Processing Record 11 of Set 5 | dikson\n",
      "Processing Record 12 of Set 5 | estacion coahuila\n",
      "Processing Record 13 of Set 5 | walsrode\n",
      "Processing Record 14 of Set 5 | port hedland\n",
      "Processing Record 15 of Set 5 | allapalli\n",
      "Processing Record 16 of Set 5 | calabozo\n",
      "Processing Record 17 of Set 5 | makakilo city\n",
      "Processing Record 18 of Set 5 | thinadhoo\n",
      "Processing Record 19 of Set 5 | canton\n",
      "Processing Record 20 of Set 5 | innisfail\n",
      "Processing Record 21 of Set 5 | cabedelo\n",
      "Processing Record 22 of Set 5 | binga\n",
      "Processing Record 23 of Set 5 | tura\n",
      "Processing Record 24 of Set 5 | kodiak\n",
      "Processing Record 25 of Set 5 | kaz\n",
      "Processing Record 26 of Set 5 | kangaba\n",
      "Processing Record 27 of Set 5 | adrar\n",
      "Processing Record 28 of Set 5 | qaanaaq\n",
      "Processing Record 29 of Set 5 | rocha\n",
      "Processing Record 30 of Set 5 | laguna\n",
      "Processing Record 31 of Set 5 | dingle\n",
      "City not found. Skipping...\n",
      "Processing Record 32 of Set 5 | vizinga\n",
      "Processing Record 33 of Set 5 | san rafael\n",
      "Processing Record 34 of Set 5 | karatuzskoye\n",
      "Processing Record 35 of Set 5 | catuday\n",
      "Processing Record 36 of Set 5 | padang\n",
      "Processing Record 37 of Set 5 | floresti\n",
      "Processing Record 38 of Set 5 | kaitangata\n",
      "Processing Record 39 of Set 5 | kaseda\n",
      "Processing Record 40 of Set 5 | hasaki\n",
      "Processing Record 41 of Set 5 | port lincoln\n",
      "Processing Record 42 of Set 5 | talnakh\n",
      "Processing Record 43 of Set 5 | zhigansk\n",
      "Processing Record 44 of Set 5 | scarborough\n",
      "Processing Record 45 of Set 5 | mikuni\n",
      "Processing Record 46 of Set 5 | bershet\n",
      "Processing Record 47 of Set 5 | chicama\n",
      "Processing Record 48 of Set 5 | ottawa\n",
      "Processing Record 49 of Set 5 | husavik\n",
      "Processing Record 50 of Set 5 | buta\n",
      "Processing Record 0 of Set 6 | bealanana\n",
      "Processing Record 1 of Set 6 | kavieng\n",
      "Processing Record 2 of Set 6 | kaniama\n",
      "Processing Record 3 of Set 6 | san vicente\n",
      "Processing Record 4 of Set 6 | manggar\n",
      "Processing Record 5 of Set 6 | abu samrah\n",
      "Processing Record 6 of Set 6 | taksimo\n",
      "Processing Record 7 of Set 6 | vila velha\n",
      "Processing Record 8 of Set 6 | barauli\n",
      "City not found. Skipping...\n",
      "City not found. Skipping...\n",
      "City not found. Skipping...\n",
      "City not found. Skipping...\n",
      "Processing Record 9 of Set 6 | saint-augustin\n",
      "Processing Record 10 of Set 6 | morondava\n",
      "City not found. Skipping...\n",
      "Processing Record 11 of Set 6 | san quintin\n",
      "Processing Record 12 of Set 6 | coueron\n",
      "Processing Record 13 of Set 6 | buala\n",
      "Processing Record 14 of Set 6 | kaka\n",
      "Processing Record 15 of Set 6 | ponta do sol\n",
      "Processing Record 16 of Set 6 | mar del plata\n",
      "Processing Record 17 of Set 6 | iracoubo\n",
      "Processing Record 18 of Set 6 | san cristobal\n",
      "Processing Record 19 of Set 6 | longyearbyen\n",
      "Processing Record 20 of Set 6 | inuvik\n",
      "Processing Record 21 of Set 6 | saint-joseph\n",
      "Processing Record 22 of Set 6 | malanje\n",
      "Processing Record 23 of Set 6 | kahului\n",
      "Processing Record 24 of Set 6 | esperance\n",
      "Processing Record 25 of Set 6 | vila franca do campo\n",
      "Processing Record 26 of Set 6 | pizarro\n",
      "Processing Record 27 of Set 6 | lima\n",
      "Processing Record 28 of Set 6 | inegol\n",
      "City not found. Skipping...\n",
      "Processing Record 29 of Set 6 | elko\n",
      "Processing Record 30 of Set 6 | port moresby\n",
      "Processing Record 31 of Set 6 | katsuura\n",
      "Processing Record 32 of Set 6 | dezful\n",
      "Processing Record 33 of Set 6 | itarema\n",
      "Processing Record 34 of Set 6 | kendari\n",
      "Processing Record 35 of Set 6 | urdoma\n",
      "City not found. Skipping...\n",
      "Processing Record 36 of Set 6 | acajutla\n",
      "Processing Record 37 of Set 6 | portland\n",
      "Processing Record 38 of Set 6 | shalakusha\n",
      "Processing Record 39 of Set 6 | san patricio\n",
      "City not found. Skipping...\n",
      "Processing Record 40 of Set 6 | altamira\n",
      "Processing Record 41 of Set 6 | burns lake\n",
      "Processing Record 42 of Set 6 | pacatuba\n",
      "Processing Record 43 of Set 6 | beyneu\n",
      "Processing Record 44 of Set 6 | amboasary\n",
      "Processing Record 45 of Set 6 | kabanjahe\n",
      "Processing Record 46 of Set 6 | norman wells\n",
      "Processing Record 47 of Set 6 | luderitz\n",
      "Processing Record 48 of Set 6 | carutapera\n",
      "Processing Record 49 of Set 6 | kathmandu\n",
      "Processing Record 50 of Set 6 | saint-pierre\n",
      "Processing Record 0 of Set 7 | erzin\n",
      "Processing Record 1 of Set 7 | freeport\n",
      "Processing Record 2 of Set 7 | chuy\n",
      "Processing Record 3 of Set 7 | bilibino\n",
      "Processing Record 4 of Set 7 | saravena\n",
      "Processing Record 5 of Set 7 | port augusta\n",
      "Processing Record 6 of Set 7 | santa cruz de la palma\n",
      "Processing Record 7 of Set 7 | maniitsoq\n",
      "Processing Record 8 of Set 7 | sakakah\n",
      "Processing Record 9 of Set 7 | batemans bay\n",
      "Processing Record 10 of Set 7 | taltal\n",
      "Processing Record 11 of Set 7 | namibe\n",
      "Processing Record 12 of Set 7 | carmo do paranaiba\n",
      "Processing Record 13 of Set 7 | varsag\n",
      "Processing Record 14 of Set 7 | alpena\n",
      "Processing Record 15 of Set 7 | beckley\n",
      "Processing Record 16 of Set 7 | ballina\n",
      "Processing Record 17 of Set 7 | bell ville\n",
      "Processing Record 18 of Set 7 | sola\n",
      "Processing Record 19 of Set 7 | tuatapere\n",
      "Processing Record 20 of Set 7 | petropavlovsk-kamchatskiy\n",
      "Processing Record 21 of Set 7 | terre haute\n",
      "Processing Record 22 of Set 7 | whitianga\n",
      "Processing Record 23 of Set 7 | boyuibe\n",
      "City not found. Skipping...\n",
      "Processing Record 24 of Set 7 | buraydah\n",
      "Processing Record 25 of Set 7 | baruun-urt\n",
      "Processing Record 26 of Set 7 | altay\n",
      "Processing Record 27 of Set 7 | thai binh\n",
      "Processing Record 28 of Set 7 | barranquilla\n",
      "Processing Record 29 of Set 7 | port macquarie\n",
      "Processing Record 30 of Set 7 | simao\n",
      "Processing Record 31 of Set 7 | ocampo\n",
      "Processing Record 32 of Set 7 | kovdor\n",
      "Processing Record 33 of Set 7 | tromso\n",
      "Processing Record 34 of Set 7 | asau\n",
      "Processing Record 35 of Set 7 | sorong\n",
      "Processing Record 36 of Set 7 | chivay\n",
      "Processing Record 37 of Set 7 | arraial do cabo\n",
      "Processing Record 38 of Set 7 | marrakesh\n",
      "Processing Record 39 of Set 7 | kudahuvadhoo\n",
      "Processing Record 40 of Set 7 | lahij\n",
      "Processing Record 41 of Set 7 | puerto baquerizo moreno\n",
      "Processing Record 42 of Set 7 | mogadishu\n",
      "Processing Record 43 of Set 7 | buzuluk\n",
      "Processing Record 44 of Set 7 | teterow\n",
      "Processing Record 45 of Set 7 | yellapur\n",
      "Processing Record 46 of Set 7 | coahuayana\n",
      "Processing Record 47 of Set 7 | grand gaube\n",
      "Processing Record 48 of Set 7 | nome\n",
      "Processing Record 49 of Set 7 | zhangye\n",
      "Processing Record 50 of Set 7 | dutse\n",
      "Processing Record 0 of Set 8 | darhan\n",
      "Processing Record 1 of Set 8 | lucapa\n",
      "Processing Record 2 of Set 8 | praia da vitoria\n",
      "City not found. Skipping...\n",
      "Processing Record 3 of Set 8 | awbari\n",
      "Processing Record 4 of Set 8 | talara\n",
      "Processing Record 5 of Set 8 | kualakapuas\n",
      "Processing Record 6 of Set 8 | villa sandino\n",
      "Processing Record 7 of Set 8 | muli\n",
      "Processing Record 8 of Set 8 | karpogory\n",
      "Processing Record 9 of Set 8 | lazaro cardenas\n",
      "Processing Record 10 of Set 8 | nouadhibou\n",
      "Processing Record 11 of Set 8 | vao\n",
      "Processing Record 12 of Set 8 | iqaluit\n",
      "Processing Record 13 of Set 8 | balrampur\n",
      "Processing Record 14 of Set 8 | nemuro\n",
      "Processing Record 15 of Set 8 | jalu\n",
      "Processing Record 16 of Set 8 | yinchuan\n"
     ]
    },
    {
     "name": "stdout",
     "output_type": "stream",
     "text": [
      "Processing Record 17 of Set 8 | bazarnyye mataki\n",
      "Processing Record 18 of Set 8 | santa cruz de tenerife\n",
      "Processing Record 19 of Set 8 | garoua\n",
      "Processing Record 20 of Set 8 | burhar\n",
      "Processing Record 21 of Set 8 | lata\n",
      "Processing Record 22 of Set 8 | forestville\n",
      "Processing Record 23 of Set 8 | salinopolis\n",
      "Processing Record 24 of Set 8 | souillac\n",
      "Processing Record 25 of Set 8 | dafeng\n",
      "Processing Record 26 of Set 8 | gamba\n",
      "Processing Record 27 of Set 8 | kavarna\n",
      "Processing Record 28 of Set 8 | palmer\n",
      "Processing Record 29 of Set 8 | snasa\n",
      "Processing Record 30 of Set 8 | ilovlya\n",
      "Processing Record 31 of Set 8 | port blair\n",
      "Processing Record 32 of Set 8 | namatanai\n",
      "Processing Record 33 of Set 8 | falmouth\n",
      "City not found. Skipping...\n",
      "Processing Record 34 of Set 8 | mabaruma\n",
      "Processing Record 35 of Set 8 | waingapu\n",
      "Processing Record 36 of Set 8 | dandong\n",
      "Processing Record 37 of Set 8 | nishihara\n",
      "Processing Record 38 of Set 8 | itoman\n",
      "Processing Record 39 of Set 8 | cairns\n",
      "Processing Record 40 of Set 8 | kawalu\n",
      "Processing Record 41 of Set 8 | sherman\n",
      "Processing Record 42 of Set 8 | rincon\n",
      "Processing Record 43 of Set 8 | javanrud\n",
      "Processing Record 44 of Set 8 | petatlan\n",
      "Processing Record 45 of Set 8 | caravelas\n",
      "Processing Record 46 of Set 8 | port-cartier\n",
      "Processing Record 47 of Set 8 | bima\n",
      "Processing Record 48 of Set 8 | hami\n",
      "Processing Record 49 of Set 8 | porto novo\n",
      "Processing Record 50 of Set 8 | urubicha\n",
      "Processing Record 0 of Set 9 | neuquen\n",
      "Processing Record 1 of Set 9 | tiznit\n",
      "Processing Record 2 of Set 9 | hay river\n",
      "Processing Record 3 of Set 9 | trincomalee\n",
      "Processing Record 4 of Set 9 | yining\n",
      "Processing Record 5 of Set 9 | port elizabeth\n",
      "Processing Record 6 of Set 9 | mulanje\n",
      "Processing Record 7 of Set 9 | ascension\n",
      "Processing Record 8 of Set 9 | omboue\n",
      "Processing Record 9 of Set 9 | mayenne\n",
      "Processing Record 10 of Set 9 | yarada\n",
      "City not found. Skipping...\n",
      "Processing Record 11 of Set 9 | hervey bay\n",
      "Processing Record 12 of Set 9 | haimen\n",
      "Processing Record 13 of Set 9 | jumla\n",
      "Processing Record 14 of Set 9 | west bay\n",
      "Processing Record 15 of Set 9 | okhotsk\n",
      "Processing Record 16 of Set 9 | ahipara\n",
      "Processing Record 17 of Set 9 | half moon bay\n",
      "Processing Record 18 of Set 9 | emerald\n",
      "Processing Record 19 of Set 9 | puerto del rosario\n",
      "Processing Record 20 of Set 9 | usinsk\n",
      "Processing Record 21 of Set 9 | dillon\n",
      "Processing Record 22 of Set 9 | tual\n",
      "Processing Record 23 of Set 9 | port-gentil\n",
      "Processing Record 24 of Set 9 | linfen\n",
      "Processing Record 25 of Set 9 | kutum\n",
      "Processing Record 26 of Set 9 | sioux lookout\n",
      "Processing Record 27 of Set 9 | nyimba\n",
      "Processing Record 28 of Set 9 | cockburn town\n",
      "Processing Record 29 of Set 9 | roebourne\n",
      "Processing Record 30 of Set 9 | kimitsu\n",
      "Processing Record 31 of Set 9 | mersin\n",
      "Processing Record 32 of Set 9 | yerbogachen\n",
      "Processing Record 33 of Set 9 | bundaberg\n",
      "Processing Record 34 of Set 9 | riyadh\n",
      "Processing Record 35 of Set 9 | kosh-agach\n",
      "Processing Record 36 of Set 9 | sabang\n",
      "Processing Record 37 of Set 9 | tambacounda\n",
      "Processing Record 38 of Set 9 | minas de barroteran\n",
      "Processing Record 39 of Set 9 | moyale\n",
      "Processing Record 40 of Set 9 | taoudenni\n",
      "Processing Record 41 of Set 9 | halifax\n",
      "Processing Record 42 of Set 9 | amalner\n",
      "City not found. Skipping...\n",
      "City not found. Skipping...\n",
      "Processing Record 43 of Set 9 | astorga\n",
      "Processing Record 44 of Set 9 | chara\n",
      "Processing Record 45 of Set 9 | pasighat\n",
      "Processing Record 46 of Set 9 | burila mare\n",
      "Processing Record 47 of Set 9 | navrongo\n",
      "Processing Record 48 of Set 9 | minab\n",
      "Processing Record 49 of Set 9 | hudson bay\n",
      "Processing Record 50 of Set 9 | platteville\n",
      "Processing Record 0 of Set 10 | turukhansk\n",
      "Processing Record 1 of Set 10 | aguilas\n",
      "Processing Record 2 of Set 10 | rabo de peixe\n",
      "Processing Record 3 of Set 10 | walvis bay\n",
      "Processing Record 4 of Set 10 | mpika\n",
      "Processing Record 5 of Set 10 | znamenskoye\n",
      "Processing Record 6 of Set 10 | san policarpo\n",
      "Processing Record 7 of Set 10 | esik\n",
      "Processing Record 8 of Set 10 | taunggyi\n",
      "City not found. Skipping...\n",
      "Processing Record 9 of Set 10 | broome\n",
      "Processing Record 10 of Set 10 | malmesbury\n",
      "Processing Record 11 of Set 10 | sao felix do xingu\n",
      "Processing Record 12 of Set 10 | ola\n",
      "Processing Record 13 of Set 10 | cornelius\n",
      "Processing Record 14 of Set 10 | bemidji\n",
      "Processing Record 15 of Set 10 | cabrera\n",
      "Processing Record 16 of Set 10 | grindavik\n",
      "Processing Record 17 of Set 10 | haines junction\n",
      "Processing Record 18 of Set 10 | savannakhet\n",
      "Processing Record 19 of Set 10 | saint-georges\n",
      "Processing Record 20 of Set 10 | khromtau\n",
      "Processing Record 21 of Set 10 | olafsvik\n",
      "Processing Record 22 of Set 10 | nsanje\n",
      "Processing Record 23 of Set 10 | karratha\n",
      "City not found. Skipping...\n",
      "Processing Record 24 of Set 10 | khandyga\n",
      "Processing Record 25 of Set 10 | acapulco\n",
      "Processing Record 26 of Set 10 | pacific grove\n",
      "Processing Record 27 of Set 10 | chimbote\n",
      "Processing Record 28 of Set 10 | opuwo\n",
      "Processing Record 29 of Set 10 | prado\n",
      "City not found. Skipping...\n",
      "Processing Record 30 of Set 10 | itabira\n",
      "Processing Record 31 of Set 10 | rongcheng\n",
      "Processing Record 32 of Set 10 | buzmeyin\n",
      "Processing Record 33 of Set 10 | sibu\n",
      "Processing Record 34 of Set 10 | along\n",
      "Processing Record 35 of Set 10 | rajapalaiyam\n",
      "Processing Record 36 of Set 10 | yago\n",
      "Processing Record 37 of Set 10 | quesnel\n",
      "Processing Record 38 of Set 10 | pocatello\n",
      "Processing Record 39 of Set 10 | praya\n",
      "Processing Record 40 of Set 10 | barzas\n",
      "Processing Record 41 of Set 10 | viedma\n",
      "Processing Record 42 of Set 10 | vostok\n",
      "Processing Record 43 of Set 10 | gari\n",
      "Processing Record 44 of Set 10 | ayan\n",
      "City not found. Skipping...\n",
      "Processing Record 45 of Set 10 | comodoro rivadavia\n",
      "Processing Record 46 of Set 10 | saint george\n",
      "Processing Record 47 of Set 10 | fairbanks\n",
      "Processing Record 48 of Set 10 | aguimes\n",
      "Processing Record 49 of Set 10 | jardim\n",
      "Processing Record 50 of Set 10 | inta\n",
      "Processing Record 0 of Set 11 | sur\n",
      "Processing Record 1 of Set 11 | kamenka\n",
      "Processing Record 2 of Set 11 | baffa\n",
      "Processing Record 3 of Set 11 | kashi\n",
      "Processing Record 4 of Set 11 | subachoque\n",
      "Processing Record 5 of Set 11 | saint anthony\n",
      "Processing Record 6 of Set 11 | hambantota\n",
      "Processing Record 7 of Set 11 | bougouni\n",
      "Processing Record 8 of Set 11 | phanom sarakham\n",
      "Processing Record 9 of Set 11 | cayenne\n",
      "Processing Record 10 of Set 11 | oron\n",
      "Processing Record 11 of Set 11 | arroyohondo\n",
      "Processing Record 12 of Set 11 | cedar city\n",
      "Processing Record 13 of Set 11 | dingzhou\n",
      "City not found. Skipping...\n",
      "Processing Record 14 of Set 11 | rebrikha\n",
      "Processing Record 15 of Set 11 | maraa\n",
      "Processing Record 16 of Set 11 | tongren\n",
      "Processing Record 17 of Set 11 | noumea\n",
      "Processing Record 18 of Set 11 | cuautla\n",
      "Processing Record 19 of Set 11 | cheremukhovo\n",
      "Processing Record 20 of Set 11 | gallup\n",
      "Processing Record 21 of Set 11 | soyo\n",
      "Processing Record 22 of Set 11 | marawi\n",
      "Processing Record 23 of Set 11 | zhanaozen\n",
      "Processing Record 24 of Set 11 | charleston\n",
      "Processing Record 25 of Set 11 | vokhma\n",
      "Processing Record 26 of Set 11 | talawakele\n",
      "Processing Record 27 of Set 11 | longyan\n",
      "Processing Record 28 of Set 11 | katghora\n",
      "Processing Record 29 of Set 11 | launceston\n",
      "Processing Record 30 of Set 11 | karaton\n",
      "Processing Record 31 of Set 11 | ust-nera\n",
      "Processing Record 32 of Set 11 | pamekasan\n",
      "Processing Record 33 of Set 11 | casa nova\n",
      "Processing Record 34 of Set 11 | chiang khong\n",
      "Processing Record 35 of Set 11 | akyab\n",
      "Processing Record 36 of Set 11 | andradas\n",
      "Processing Record 37 of Set 11 | belmonte\n",
      "Processing Record 38 of Set 11 | port hardy\n",
      "Processing Record 39 of Set 11 | hamilton\n",
      "Processing Record 40 of Set 11 | castro verde\n",
      "Processing Record 41 of Set 11 | tarko-sale\n",
      "Processing Record 42 of Set 11 | lompoc\n",
      "Processing Record 43 of Set 11 | buchanan\n",
      "Processing Record 44 of Set 11 | havoysund\n",
      "Processing Record 45 of Set 11 | owosso\n",
      "Processing Record 46 of Set 11 | conde\n",
      "Processing Record 47 of Set 11 | banon\n",
      "Processing Record 48 of Set 11 | muros\n",
      "Processing Record 49 of Set 11 | beloha\n",
      "Processing Record 50 of Set 11 | pareora\n",
      "Processing Record 0 of Set 12 | marquette\n",
      "Processing Record 1 of Set 12 | madimba\n",
      "Processing Record 2 of Set 12 | moron\n",
      "Processing Record 3 of Set 12 | mayo\n",
      "Processing Record 4 of Set 12 | griffith\n"
     ]
    },
    {
     "name": "stdout",
     "output_type": "stream",
     "text": [
      "Processing Record 5 of Set 12 | lakatoro\n",
      "City not found. Skipping...\n",
      "City not found. Skipping...\n",
      "Processing Record 6 of Set 12 | antalaha\n",
      "Processing Record 7 of Set 12 | pangnirtung\n",
      "Processing Record 8 of Set 12 | vanimo\n",
      "Processing Record 9 of Set 12 | baker city\n",
      "Processing Record 10 of Set 12 | bejar\n",
      "Processing Record 11 of Set 12 | ambilobe\n",
      "Processing Record 12 of Set 12 | berbera\n",
      "Processing Record 13 of Set 12 | kuybyshevskiy zaton\n",
      "Processing Record 14 of Set 12 | coihaique\n",
      "Processing Record 15 of Set 12 | durban\n",
      "Processing Record 16 of Set 12 | hamada\n",
      "Processing Record 17 of Set 12 | batticaloa\n",
      "-----------------------------\n",
      "Data Retrieval Complete\n",
      "-----------------------------\n"
     ]
    }
   ],
   "source": [
    "# set up base url with units in imperial\n",
    "url = \"http://api.openweathermap.org/data/2.5/weather?\"\n",
    "units=\"imperial\"\n",
    "query_url=f\"{url}appid={api_keys}&units={units}&q=\"\n",
    "\n",
    "\n",
    "# create empty lists to hold data\n",
    "city_list = []\n",
    "lat_list = []\n",
    "lng_list = []\n",
    "maxtemp_list = []\n",
    "humidity_list = []\n",
    "cloudiness_list = []\n",
    "windspeed_list = []\n",
    "country_list = []\n",
    "date_list = []\n",
    "\n",
    "print(\"Beginning Data Retrieval\")\n",
    "print(\"-----------------------------\")\n",
    "\n",
    "# set counters for data looping\n",
    "record = 0\n",
    "sets = 1\n",
    "\n",
    "# gather weather data for cities\n",
    "for index, city in enumerate(cities):\n",
    "    try:\n",
    "        response = requests.get(query_url + city).json()\n",
    "        city_list.append(response[\"name\"])\n",
    "        lat_list.append(response[\"coord\"][\"lat\"])\n",
    "        lng_list.append(response[\"coord\"][\"lon\"])\n",
    "        maxtemp_list.append(response[\"main\"][\"temp_max\"])\n",
    "        humidity_list.append(response[\"main\"][\"humidity\"])\n",
    "        cloudiness_list.append(response[\"clouds\"][\"all\"])\n",
    "        windspeed_list.append(response[\"wind\"][\"speed\"])\n",
    "        country_list.append(response[\"sys\"][\"country\"])\n",
    "        date_list.append(response[\"dt\"])\n",
    "        \n",
    "        #keep adding records and reset when record reaches 50\n",
    "        if record == 50:\n",
    "            record = 0\n",
    "            sets = sets + 1\n",
    "       \n",
    "        else:\n",
    "            record = record + 1\n",
    "        \n",
    "        # print out data\n",
    "        print(f\"Processing Record {record} of Set {sets} | {city}\")\n",
    "        \n",
    "    except:\n",
    "        print(\"City not found. Skipping...\")\n",
    "\n",
    "\n",
    "print(\"-----------------------------\")\n",
    "print(\"Data Retrieval Complete\")\n",
    "print(\"-----------------------------\")\n",
    "\n",
    "\n"
   ]
  },
  {
   "cell_type": "markdown",
   "metadata": {},
   "source": [
    "### Convert Raw Data to DataFrame\n",
    "* Export the city data into a .csv.\n",
    "* Display the DataFrame"
   ]
  },
  {
   "cell_type": "code",
   "execution_count": 139,
   "metadata": {},
   "outputs": [
    {
     "data": {
      "text/html": [
       "<div>\n",
       "<style scoped>\n",
       "    .dataframe tbody tr th:only-of-type {\n",
       "        vertical-align: middle;\n",
       "    }\n",
       "\n",
       "    .dataframe tbody tr th {\n",
       "        vertical-align: top;\n",
       "    }\n",
       "\n",
       "    .dataframe thead th {\n",
       "        text-align: right;\n",
       "    }\n",
       "</style>\n",
       "<table border=\"1\" class=\"dataframe\">\n",
       "  <thead>\n",
       "    <tr style=\"text-align: right;\">\n",
       "      <th></th>\n",
       "      <th>City</th>\n",
       "      <th>Lat</th>\n",
       "      <th>Lng</th>\n",
       "      <th>Max Temp</th>\n",
       "      <th>Humidity</th>\n",
       "      <th>Cloudiness</th>\n",
       "      <th>Wind Speed</th>\n",
       "      <th>Country</th>\n",
       "      <th>Date</th>\n",
       "    </tr>\n",
       "  </thead>\n",
       "  <tbody>\n",
       "    <tr>\n",
       "      <th>0</th>\n",
       "      <td>Provideniya</td>\n",
       "      <td>64.3833</td>\n",
       "      <td>-173.3000</td>\n",
       "      <td>-10.28</td>\n",
       "      <td>91</td>\n",
       "      <td>100</td>\n",
       "      <td>12.08</td>\n",
       "      <td>RU</td>\n",
       "      <td>1644865919</td>\n",
       "    </tr>\n",
       "    <tr>\n",
       "      <th>1</th>\n",
       "      <td>Rikitea</td>\n",
       "      <td>-23.1203</td>\n",
       "      <td>-134.9692</td>\n",
       "      <td>78.44</td>\n",
       "      <td>68</td>\n",
       "      <td>91</td>\n",
       "      <td>9.42</td>\n",
       "      <td>PF</td>\n",
       "      <td>1644865920</td>\n",
       "    </tr>\n",
       "    <tr>\n",
       "      <th>2</th>\n",
       "      <td>Boguchany</td>\n",
       "      <td>58.3814</td>\n",
       "      <td>97.4531</td>\n",
       "      <td>-17.37</td>\n",
       "      <td>99</td>\n",
       "      <td>31</td>\n",
       "      <td>4.52</td>\n",
       "      <td>RU</td>\n",
       "      <td>1644865921</td>\n",
       "    </tr>\n",
       "    <tr>\n",
       "      <th>3</th>\n",
       "      <td>Feijó</td>\n",
       "      <td>-8.1642</td>\n",
       "      <td>-70.3536</td>\n",
       "      <td>85.21</td>\n",
       "      <td>61</td>\n",
       "      <td>99</td>\n",
       "      <td>2.26</td>\n",
       "      <td>BR</td>\n",
       "      <td>1644865921</td>\n",
       "    </tr>\n",
       "    <tr>\n",
       "      <th>4</th>\n",
       "      <td>Megion</td>\n",
       "      <td>61.0296</td>\n",
       "      <td>76.1136</td>\n",
       "      <td>-3.98</td>\n",
       "      <td>97</td>\n",
       "      <td>100</td>\n",
       "      <td>5.66</td>\n",
       "      <td>RU</td>\n",
       "      <td>1644865922</td>\n",
       "    </tr>\n",
       "  </tbody>\n",
       "</table>\n",
       "</div>"
      ],
      "text/plain": [
       "          City      Lat       Lng  Max Temp  Humidity  Cloudiness  Wind Speed  \\\n",
       "0  Provideniya  64.3833 -173.3000    -10.28        91         100       12.08   \n",
       "1      Rikitea -23.1203 -134.9692     78.44        68          91        9.42   \n",
       "2    Boguchany  58.3814   97.4531    -17.37        99          31        4.52   \n",
       "3        Feijó  -8.1642  -70.3536     85.21        61          99        2.26   \n",
       "4       Megion  61.0296   76.1136     -3.98        97         100        5.66   \n",
       "\n",
       "  Country        Date  \n",
       "0      RU  1644865919  \n",
       "1      PF  1644865920  \n",
       "2      RU  1644865921  \n",
       "3      BR  1644865921  \n",
       "4      RU  1644865922  "
      ]
     },
     "execution_count": 139,
     "metadata": {},
     "output_type": "execute_result"
    }
   ],
   "source": [
    "# convert to dataframe and set column names\n",
    "df = pd.DataFrame({\n",
    "    \"City\": city_list,\n",
    "    \"Lat\": lat_list,\n",
    "    \"Lng\": lng_list,\n",
    "    \"Max Temp\": maxtemp_list,\n",
    "    \"Humidity\": humidity_list,\n",
    "    \"Cloudiness\": cloudiness_list,\n",
    "    \"Wind Speed\": windspeed_list,\n",
    "    \"Country\": country_list,\n",
    "    \"Date\": date_list\n",
    "})\n",
    "\n",
    "df.reset_index()\n",
    "\n",
    "# send to csv file in output_data directory\n",
    "df.to_csv(\"output_data/city_weather.csv\", index=False)\n",
    "\n",
    "#show output of dataframe\n",
    "df.head()"
   ]
  },
  {
   "cell_type": "code",
   "execution_count": 140,
   "metadata": {},
   "outputs": [
    {
     "data": {
      "text/html": [
       "<div>\n",
       "<style scoped>\n",
       "    .dataframe tbody tr th:only-of-type {\n",
       "        vertical-align: middle;\n",
       "    }\n",
       "\n",
       "    .dataframe tbody tr th {\n",
       "        vertical-align: top;\n",
       "    }\n",
       "\n",
       "    .dataframe thead th {\n",
       "        text-align: right;\n",
       "    }\n",
       "</style>\n",
       "<table border=\"1\" class=\"dataframe\">\n",
       "  <thead>\n",
       "    <tr style=\"text-align: right;\">\n",
       "      <th></th>\n",
       "      <th>Lat</th>\n",
       "      <th>Lng</th>\n",
       "      <th>Max Temp</th>\n",
       "      <th>Humidity</th>\n",
       "      <th>Cloudiness</th>\n",
       "      <th>Wind Speed</th>\n",
       "      <th>Date</th>\n",
       "    </tr>\n",
       "  </thead>\n",
       "  <tbody>\n",
       "    <tr>\n",
       "      <th>count</th>\n",
       "      <td>578.000000</td>\n",
       "      <td>578.000000</td>\n",
       "      <td>578.000000</td>\n",
       "      <td>578.000000</td>\n",
       "      <td>578.000000</td>\n",
       "      <td>578.000000</td>\n",
       "      <td>5.780000e+02</td>\n",
       "    </tr>\n",
       "    <tr>\n",
       "      <th>mean</th>\n",
       "      <td>19.028274</td>\n",
       "      <td>14.864977</td>\n",
       "      <td>52.604689</td>\n",
       "      <td>70.354671</td>\n",
       "      <td>56.752595</td>\n",
       "      <td>8.392734</td>\n",
       "      <td>1.644866e+09</td>\n",
       "    </tr>\n",
       "    <tr>\n",
       "      <th>std</th>\n",
       "      <td>32.580425</td>\n",
       "      <td>88.565145</td>\n",
       "      <td>31.592249</td>\n",
       "      <td>23.315718</td>\n",
       "      <td>41.759226</td>\n",
       "      <td>6.489808</td>\n",
       "      <td>9.263808e+01</td>\n",
       "    </tr>\n",
       "    <tr>\n",
       "      <th>min</th>\n",
       "      <td>-54.800000</td>\n",
       "      <td>-175.200000</td>\n",
       "      <td>-43.960000</td>\n",
       "      <td>8.000000</td>\n",
       "      <td>0.000000</td>\n",
       "      <td>0.000000</td>\n",
       "      <td>1.644865e+09</td>\n",
       "    </tr>\n",
       "    <tr>\n",
       "      <th>25%</th>\n",
       "      <td>-7.923675</td>\n",
       "      <td>-63.554300</td>\n",
       "      <td>32.087500</td>\n",
       "      <td>60.000000</td>\n",
       "      <td>8.000000</td>\n",
       "      <td>3.945000</td>\n",
       "      <td>1.644866e+09</td>\n",
       "    </tr>\n",
       "    <tr>\n",
       "      <th>50%</th>\n",
       "      <td>21.555600</td>\n",
       "      <td>20.053500</td>\n",
       "      <td>63.185000</td>\n",
       "      <td>77.000000</td>\n",
       "      <td>74.000000</td>\n",
       "      <td>6.980000</td>\n",
       "      <td>1.644866e+09</td>\n",
       "    </tr>\n",
       "    <tr>\n",
       "      <th>75%</th>\n",
       "      <td>45.387575</td>\n",
       "      <td>87.927525</td>\n",
       "      <td>78.005000</td>\n",
       "      <td>88.000000</td>\n",
       "      <td>100.000000</td>\n",
       "      <td>11.135000</td>\n",
       "      <td>1.644866e+09</td>\n",
       "    </tr>\n",
       "    <tr>\n",
       "      <th>max</th>\n",
       "      <td>78.218600</td>\n",
       "      <td>178.416700</td>\n",
       "      <td>97.090000</td>\n",
       "      <td>100.000000</td>\n",
       "      <td>100.000000</td>\n",
       "      <td>50.760000</td>\n",
       "      <td>1.644866e+09</td>\n",
       "    </tr>\n",
       "  </tbody>\n",
       "</table>\n",
       "</div>"
      ],
      "text/plain": [
       "              Lat         Lng    Max Temp    Humidity  Cloudiness  Wind Speed  \\\n",
       "count  578.000000  578.000000  578.000000  578.000000  578.000000  578.000000   \n",
       "mean    19.028274   14.864977   52.604689   70.354671   56.752595    8.392734   \n",
       "std     32.580425   88.565145   31.592249   23.315718   41.759226    6.489808   \n",
       "min    -54.800000 -175.200000  -43.960000    8.000000    0.000000    0.000000   \n",
       "25%     -7.923675  -63.554300   32.087500   60.000000    8.000000    3.945000   \n",
       "50%     21.555600   20.053500   63.185000   77.000000   74.000000    6.980000   \n",
       "75%     45.387575   87.927525   78.005000   88.000000  100.000000   11.135000   \n",
       "max     78.218600  178.416700   97.090000  100.000000  100.000000   50.760000   \n",
       "\n",
       "               Date  \n",
       "count  5.780000e+02  \n",
       "mean   1.644866e+09  \n",
       "std    9.263808e+01  \n",
       "min    1.644865e+09  \n",
       "25%    1.644866e+09  \n",
       "50%    1.644866e+09  \n",
       "75%    1.644866e+09  \n",
       "max    1.644866e+09  "
      ]
     },
     "execution_count": 140,
     "metadata": {},
     "output_type": "execute_result"
    }
   ],
   "source": [
    "df.describe()"
   ]
  },
  {
   "cell_type": "markdown",
   "metadata": {},
   "source": [
    "## Inspect the data and remove the cities where the humidity > 100%.\n",
    "----\n",
    "Skip this step if there are no cities that have humidity > 100%. "
   ]
  },
  {
   "cell_type": "code",
   "execution_count": 141,
   "metadata": {},
   "outputs": [
    {
     "name": "stdout",
     "output_type": "stream",
     "text": [
      "[19, 55, 58, 74, 76, 96, 127, 140, 237, 249, 274, 308, 334, 356, 463, 482, 501, 524, 528]\n"
     ]
    }
   ],
   "source": [
    "checkhumidity=df.index[df[\"Humidity\"]>=100].tolist()\n",
    "print(checkhumidity)"
   ]
  },
  {
   "cell_type": "code",
   "execution_count": 142,
   "metadata": {},
   "outputs": [
    {
     "name": "stdout",
     "output_type": "stream",
     "text": [
      "Int64Index([ 19,  55,  58,  74,  76,  96, 127, 140, 237, 249, 274, 308, 334,\n",
      "            356, 463, 482, 501, 524, 528],\n",
      "           dtype='int64')\n"
     ]
    }
   ],
   "source": [
    "#  Get the indices of cities that have humidity over 100%.\n",
    "humiditydrop=df.index[df['Humidity']>=100]\n",
    "print(humiditydrop)"
   ]
  },
  {
   "cell_type": "code",
   "execution_count": 143,
   "metadata": {},
   "outputs": [
    {
     "data": {
      "text/html": [
       "<div>\n",
       "<style scoped>\n",
       "    .dataframe tbody tr th:only-of-type {\n",
       "        vertical-align: middle;\n",
       "    }\n",
       "\n",
       "    .dataframe tbody tr th {\n",
       "        vertical-align: top;\n",
       "    }\n",
       "\n",
       "    .dataframe thead th {\n",
       "        text-align: right;\n",
       "    }\n",
       "</style>\n",
       "<table border=\"1\" class=\"dataframe\">\n",
       "  <thead>\n",
       "    <tr style=\"text-align: right;\">\n",
       "      <th></th>\n",
       "      <th>City</th>\n",
       "      <th>Lat</th>\n",
       "      <th>Lng</th>\n",
       "      <th>Max Temp</th>\n",
       "      <th>Humidity</th>\n",
       "      <th>Cloudiness</th>\n",
       "      <th>Wind Speed</th>\n",
       "      <th>Country</th>\n",
       "      <th>Date</th>\n",
       "    </tr>\n",
       "  </thead>\n",
       "  <tbody>\n",
       "    <tr>\n",
       "      <th>0</th>\n",
       "      <td>Provideniya</td>\n",
       "      <td>64.3833</td>\n",
       "      <td>-173.3000</td>\n",
       "      <td>-10.28</td>\n",
       "      <td>91</td>\n",
       "      <td>100</td>\n",
       "      <td>12.08</td>\n",
       "      <td>RU</td>\n",
       "      <td>1644865919</td>\n",
       "    </tr>\n",
       "    <tr>\n",
       "      <th>1</th>\n",
       "      <td>Rikitea</td>\n",
       "      <td>-23.1203</td>\n",
       "      <td>-134.9692</td>\n",
       "      <td>78.44</td>\n",
       "      <td>68</td>\n",
       "      <td>91</td>\n",
       "      <td>9.42</td>\n",
       "      <td>PF</td>\n",
       "      <td>1644865920</td>\n",
       "    </tr>\n",
       "    <tr>\n",
       "      <th>2</th>\n",
       "      <td>Boguchany</td>\n",
       "      <td>58.3814</td>\n",
       "      <td>97.4531</td>\n",
       "      <td>-17.37</td>\n",
       "      <td>99</td>\n",
       "      <td>31</td>\n",
       "      <td>4.52</td>\n",
       "      <td>RU</td>\n",
       "      <td>1644865921</td>\n",
       "    </tr>\n",
       "    <tr>\n",
       "      <th>3</th>\n",
       "      <td>Feijó</td>\n",
       "      <td>-8.1642</td>\n",
       "      <td>-70.3536</td>\n",
       "      <td>85.21</td>\n",
       "      <td>61</td>\n",
       "      <td>99</td>\n",
       "      <td>2.26</td>\n",
       "      <td>BR</td>\n",
       "      <td>1644865921</td>\n",
       "    </tr>\n",
       "    <tr>\n",
       "      <th>4</th>\n",
       "      <td>Megion</td>\n",
       "      <td>61.0296</td>\n",
       "      <td>76.1136</td>\n",
       "      <td>-3.98</td>\n",
       "      <td>97</td>\n",
       "      <td>100</td>\n",
       "      <td>5.66</td>\n",
       "      <td>RU</td>\n",
       "      <td>1644865922</td>\n",
       "    </tr>\n",
       "    <tr>\n",
       "      <th>...</th>\n",
       "      <td>...</td>\n",
       "      <td>...</td>\n",
       "      <td>...</td>\n",
       "      <td>...</td>\n",
       "      <td>...</td>\n",
       "      <td>...</td>\n",
       "      <td>...</td>\n",
       "      <td>...</td>\n",
       "      <td>...</td>\n",
       "    </tr>\n",
       "    <tr>\n",
       "      <th>573</th>\n",
       "      <td>Kuybyshevskiy Zaton</td>\n",
       "      <td>55.1593</td>\n",
       "      <td>49.1701</td>\n",
       "      <td>16.38</td>\n",
       "      <td>95</td>\n",
       "      <td>96</td>\n",
       "      <td>6.02</td>\n",
       "      <td>RU</td>\n",
       "      <td>1644866121</td>\n",
       "    </tr>\n",
       "    <tr>\n",
       "      <th>574</th>\n",
       "      <td>Coyhaique</td>\n",
       "      <td>-45.5752</td>\n",
       "      <td>-72.0662</td>\n",
       "      <td>67.95</td>\n",
       "      <td>42</td>\n",
       "      <td>75</td>\n",
       "      <td>9.22</td>\n",
       "      <td>CL</td>\n",
       "      <td>1644866121</td>\n",
       "    </tr>\n",
       "    <tr>\n",
       "      <th>575</th>\n",
       "      <td>Durban</td>\n",
       "      <td>-29.8579</td>\n",
       "      <td>31.0292</td>\n",
       "      <td>76.01</td>\n",
       "      <td>86</td>\n",
       "      <td>100</td>\n",
       "      <td>3.00</td>\n",
       "      <td>ZA</td>\n",
       "      <td>1644866122</td>\n",
       "    </tr>\n",
       "    <tr>\n",
       "      <th>576</th>\n",
       "      <td>Hamada</td>\n",
       "      <td>34.8833</td>\n",
       "      <td>132.0833</td>\n",
       "      <td>39.00</td>\n",
       "      <td>72</td>\n",
       "      <td>53</td>\n",
       "      <td>15.61</td>\n",
       "      <td>JP</td>\n",
       "      <td>1644866122</td>\n",
       "    </tr>\n",
       "    <tr>\n",
       "      <th>577</th>\n",
       "      <td>Batticaloa</td>\n",
       "      <td>7.7102</td>\n",
       "      <td>81.6924</td>\n",
       "      <td>78.19</td>\n",
       "      <td>65</td>\n",
       "      <td>97</td>\n",
       "      <td>10.36</td>\n",
       "      <td>LK</td>\n",
       "      <td>1644866123</td>\n",
       "    </tr>\n",
       "  </tbody>\n",
       "</table>\n",
       "<p>559 rows × 9 columns</p>\n",
       "</div>"
      ],
      "text/plain": [
       "                    City      Lat       Lng  Max Temp  Humidity  Cloudiness  \\\n",
       "0            Provideniya  64.3833 -173.3000    -10.28        91         100   \n",
       "1                Rikitea -23.1203 -134.9692     78.44        68          91   \n",
       "2              Boguchany  58.3814   97.4531    -17.37        99          31   \n",
       "3                  Feijó  -8.1642  -70.3536     85.21        61          99   \n",
       "4                 Megion  61.0296   76.1136     -3.98        97         100   \n",
       "..                   ...      ...       ...       ...       ...         ...   \n",
       "573  Kuybyshevskiy Zaton  55.1593   49.1701     16.38        95          96   \n",
       "574            Coyhaique -45.5752  -72.0662     67.95        42          75   \n",
       "575               Durban -29.8579   31.0292     76.01        86         100   \n",
       "576               Hamada  34.8833  132.0833     39.00        72          53   \n",
       "577           Batticaloa   7.7102   81.6924     78.19        65          97   \n",
       "\n",
       "     Wind Speed Country        Date  \n",
       "0         12.08      RU  1644865919  \n",
       "1          9.42      PF  1644865920  \n",
       "2          4.52      RU  1644865921  \n",
       "3          2.26      BR  1644865921  \n",
       "4          5.66      RU  1644865922  \n",
       "..          ...     ...         ...  \n",
       "573        6.02      RU  1644866121  \n",
       "574        9.22      CL  1644866121  \n",
       "575        3.00      ZA  1644866122  \n",
       "576       15.61      JP  1644866122  \n",
       "577       10.36      LK  1644866123  \n",
       "\n",
       "[559 rows x 9 columns]"
      ]
     },
     "execution_count": 143,
     "metadata": {},
     "output_type": "execute_result"
    }
   ],
   "source": [
    "# Make a new DataFrame equal to the city data to drop all humidity outliers by index.\n",
    "# Passing \"inplace=False\" will make a copy of the city_data DataFrame, which we call \"clean_city_data\".\n",
    "clean_city_data=df.drop(humiditydrop, inplace=False)\n",
    "clean_city_data"
   ]
  },
  {
   "cell_type": "markdown",
   "metadata": {},
   "source": [
    "## Plotting the Data\n",
    "* Use proper labeling of the plots using plot titles (including date of analysis) and axes labels.\n",
    "* Save the plotted figures as .pngs."
   ]
  },
  {
   "cell_type": "markdown",
   "metadata": {},
   "source": [
    "## Latitude vs. Temperature Plot"
   ]
  },
  {
   "cell_type": "code",
   "execution_count": 144,
   "metadata": {},
   "outputs": [
    {
     "data": {
      "image/png": "[encoded data removed]",
      "text/plain": [
       "<Figure size 432x288 with 1 Axes>"
      ]
     },
     "metadata": {
      "needs_background": "light"
     },
     "output_type": "display_data"
    }
   ],
   "source": [
    "#Create scatter plot for latitude vs. max temp\n",
    "plt.scatter(df[\"Lat\"], df[\"Max Temp\"],facecolor=\"cadetblue\", edgecolor=\"b\")\n",
    "\n",
    "#add details to plot\n",
    "plt.title(\"City Latitude vs. Max Temperature (02/14/2022)\")\n",
    "plt.xlabel(\"Latitude\")\n",
    "plt.ylabel(\"Max Temperature (F)\")\n",
    "plt.grid(alpha=0.25)\n",
    "\n",
    "#save plot to png file\n",
    "plt.savefig(\"output_data/lat_vs_temp_plot.png\")"
   ]
  },
  {
   "cell_type": "markdown",
   "metadata": {},
   "source": []
  },
  {
   "cell_type": "markdown",
   "metadata": {},
   "source": [
    "## Latitude vs. Humidity Plot"
   ]
  },
  {
   "cell_type": "code",
   "execution_count": 145,
   "metadata": {},
   "outputs": [
    {
     "data": {
      "image/png": "[encoded data removed]",
      "text/plain": [
       "<Figure size 432x288 with 1 Axes>"
      ]
     },
     "metadata": {
      "needs_background": "light"
     },
     "output_type": "display_data"
    }
   ],
   "source": [
    "#Create scatter plot for latitude vs. max temp\n",
    "plt.scatter(df[\"Lat\"], df[\"Humidity\"],facecolor=\"cadetblue\", edgecolor=\"b\")\n",
    "\n",
    "#add details to plot\n",
    "plt.title(\"City Latitude vs. Humidity (02/14/2022)\")\n",
    "plt.xlabel(\"Latitude\")\n",
    "plt.ylabel(\"Humidity(%)\")\n",
    "plt.grid(alpha=0.25)\n",
    "\n",
    "#save plot to png file\n",
    "plt.savefig(\"output_data/lat_vs_humidity_plot.png\")"
   ]
  },
  {
   "cell_type": "markdown",
   "metadata": {},
   "source": [
    "## Latitude vs. Cloudiness Plot"
   ]
  },
  {
   "cell_type": "code",
   "execution_count": 146,
   "metadata": {},
   "outputs": [
    {
     "data": {
      "image/png": "[encoded data removed]",
      "text/plain": [
       "<Figure size 432x288 with 1 Axes>"
      ]
     },
     "metadata": {
      "needs_background": "light"
     },
     "output_type": "display_data"
    }
   ],
   "source": [
    "#Create scatter plot for latitude vs. max temp\n",
    "plt.scatter(df[\"Lat\"], df[\"Cloudiness\"],facecolor=\"cadetblue\", edgecolor=\"b\")\n",
    "\n",
    "#add details to plot\n",
    "plt.title(\"City Latitude vs. Cloudiness (02/14/2022)\")\n",
    "plt.xlabel(\"Latitude\")\n",
    "plt.ylabel(\"Cloudiness (%)\")\n",
    "plt.grid(alpha=0.25)\n",
    "\n",
    "#save plot to png file\n",
    "plt.savefig(\"output_data/lat_vs_cloudiness_plot.png\")"
   ]
  },
  {
   "cell_type": "markdown",
   "metadata": {},
   "source": [
    "## Latitude vs. Wind Speed Plot"
   ]
  },
  {
   "cell_type": "code",
   "execution_count": 147,
   "metadata": {},
   "outputs": [
    {
     "data": {
      "image/png": "[encoded data removed]",
      "text/plain": [
       "<Figure size 432x288 with 1 Axes>"
      ]
     },
     "metadata": {
      "needs_background": "light"
     },
     "output_type": "display_data"
    }
   ],
   "source": [
    "#Create scatter plot for latitude vs. max temp\n",
    "plt.scatter(df[\"Lat\"], df[\"Wind Speed\"],facecolor=\"cadetblue\", edgecolor=\"b\")\n",
    "\n",
    "#add details to plot\n",
    "plt.title(\"City Latitude vs. Wind Speed (02/14/2022)\")\n",
    "plt.xlabel(\"Latitude\")\n",
    "plt.ylabel(\"Wind Speed (mph)\")\n",
    "plt.grid(alpha=0.25)\n",
    "\n",
    "#save plot to png file\n",
    "plt.savefig(\"output_data/lat_vs_wind_plot.png\")"
   ]
  },
  {
   "cell_type": "markdown",
   "metadata": {},
   "source": [
    "## Linear Regression"
   ]
  },
  {
   "cell_type": "code",
   "execution_count": 148,
   "metadata": {},
   "outputs": [],
   "source": [
    "north_hem = df.loc[df[\"Lat\"] >= 0, :]\n",
    "south_hem = df.loc[df[\"Lat\"] < 0, :]"
   ]
  },
  {
   "cell_type": "markdown",
   "metadata": {},
   "source": [
    "####  Northern Hemisphere - Max Temp vs. Latitude Linear Regression"
   ]
  },
  {
   "cell_type": "code",
   "execution_count": 149,
   "metadata": {},
   "outputs": [
    {
     "name": "stdout",
     "output_type": "stream",
     "text": [
      "The r-value is: 0.7619109449612538\n"
     ]
    },
    {
     "data": {
      "image/png": "[encoded data removed]",
      "text/plain": [
       "<Figure size 432x288 with 1 Axes>"
      ]
     },
     "metadata": {
      "needs_background": "light"
     },
     "output_type": "display_data"
    }
   ],
   "source": [
    "x_values= north_hem[\"Lat\"]\n",
    "y_values= north_hem[\"Max Temp\"]\n",
    "(slope, intercept, rvalue, pvalue, stderr) = linregress(x_values, y_values)\n",
    "regress_values=x_values * slope + intercept\n",
    "line_eq=\"y= \" + str(round(slope,2)) + \"x + \" + str(round(intercept, 2))\n",
    "plt.scatter(x_values, y_values)\n",
    "plt.plot(x_values, regress_values, \"r-\")\n",
    "plt.annotate(line_eq, (6,-40), fontsize=15, color=\"red\")\n",
    "plt.xlabel(\"Latitude\")\n",
    "plt.ylabel(\"Max Temp\")\n",
    "print(f\"The r-value is: {rvalue**2}\")\n",
    "plt.savefig(\"output_data/north_hem_temp_v_lat_plot.png\")\n",
    "plt.show()"
   ]
  },
  {
   "cell_type": "markdown",
   "metadata": {},
   "source": [
    "####  Southern Hemisphere - Max Temp vs. Latitude Linear Regression"
   ]
  },
  {
   "cell_type": "code",
   "execution_count": 150,
   "metadata": {},
   "outputs": [
    {
     "name": "stdout",
     "output_type": "stream",
     "text": [
      "The r-value is: 0.18857649888936132\n"
     ]
    },
    {
     "data": {
      "image/png": "[encoded data removed]",
      "text/plain": [
       "<Figure size 432x288 with 1 Axes>"
      ]
     },
     "metadata": {
      "needs_background": "light"
     },
     "output_type": "display_data"
    }
   ],
   "source": [
    "x_values= south_hem[\"Lat\"]\n",
    "y_values= south_hem[\"Max Temp\"]\n",
    "(slope, intercept, rvalue, pvalue, stderr) = linregress(x_values, y_values)\n",
    "regress_values=x_values * slope + intercept\n",
    "line_eq=\"y= \" + str(round(slope,2)) + \"x + \" + str(round(intercept, 2))\n",
    "plt.scatter(x_values, y_values)\n",
    "plt.plot(x_values, regress_values, \"r-\")\n",
    "plt.annotate(line_eq, (-55,90), fontsize=15, color=\"red\")\n",
    "plt.xlabel(\"Latitude\")\n",
    "plt.ylabel(\"Max Temp\")\n",
    "print(f\"The r-value is: {rvalue**2}\")\n",
    "plt.savefig(\"output_data/south_hem_temp_v_lat_plot.png\")\n",
    "plt.show()"
   ]
  },
  {
   "cell_type": "markdown",
   "metadata": {},
   "source": [
    "####  Northern Hemisphere - Humidity (%) vs. Latitude Linear Regression"
   ]
  },
  {
   "cell_type": "code",
   "execution_count": 151,
   "metadata": {},
   "outputs": [
    {
     "name": "stdout",
     "output_type": "stream",
     "text": [
      "The r-value is: 0.221691185428273\n"
     ]
    },
    {
     "data": {
      "image/png": "[encoded data removed]",
      "text/plain": [
       "<Figure size 432x288 with 1 Axes>"
      ]
     },
     "metadata": {
      "needs_background": "light"
     },
     "output_type": "display_data"
    }
   ],
   "source": [
    "x_values= north_hem[\"Lat\"]\n",
    "y_values= north_hem[\"Humidity\"]\n",
    "(slope, intercept, rvalue, pvalue, stderr) = linregress(x_values, y_values)\n",
    "regress_values=x_values * slope + intercept\n",
    "line_eq=\"y= \" + str(round(slope,2)) + \"x + \" + str(round(intercept, 2))\n",
    "plt.scatter(x_values, y_values)\n",
    "plt.plot(x_values, regress_values, \"r-\")\n",
    "plt.annotate(line_eq, (40,20), fontsize=15, color=\"red\")\n",
    "plt.xlabel(\"Latitude\")\n",
    "plt.ylabel(\"Humidity\")\n",
    "print(f\"The r-value is: {rvalue**2}\")\n",
    "plt.savefig(\"output_data/north_hem_cloudiness_v_lat_plot.png\")\n",
    "plt.show()"
   ]
  },
  {
   "cell_type": "markdown",
   "metadata": {},
   "source": [
    "####  Southern Hemisphere - Humidity (%) vs. Latitude Linear Regression"
   ]
  },
  {
   "cell_type": "code",
   "execution_count": 152,
   "metadata": {},
   "outputs": [
    {
     "name": "stdout",
     "output_type": "stream",
     "text": [
      "The r-value is: 0.0936852440303493\n"
     ]
    },
    {
     "data": {
      "image/png": "[encoded data removed]",
      "text/plain": [
       "<Figure size 432x288 with 1 Axes>"
      ]
     },
     "metadata": {
      "needs_background": "light"
     },
     "output_type": "display_data"
    }
   ],
   "source": [
    "x_values= south_hem[\"Lat\"]\n",
    "y_values= south_hem[\"Humidity\"]\n",
    "(slope, intercept, rvalue, pvalue, stderr) = linregress(x_values, y_values)\n",
    "regress_values=x_values * slope + intercept\n",
    "line_eq=\"y= \" + str(round(slope,2)) + \"x + \" + str(round(intercept, 2))\n",
    "plt.scatter(x_values, y_values)\n",
    "plt.plot(x_values, regress_values, \"r-\")\n",
    "plt.annotate(line_eq, (-25,20), fontsize=15, color=\"red\")\n",
    "plt.xlabel(\"Latitude\")\n",
    "plt.ylabel(\"Humidity\")\n",
    "print(f\"The r-value is: {rvalue**2}\")\n",
    "plt.savefig(\"output_data/south_hem_humudity_v_lat_plot.png\")\n",
    "plt.show()"
   ]
  },
  {
   "cell_type": "markdown",
   "metadata": {},
   "source": [
    "####  Northern Hemisphere - Cloudiness (%) vs. Latitude Linear Regression"
   ]
  },
  {
   "cell_type": "code",
   "execution_count": 153,
   "metadata": {},
   "outputs": [
    {
     "name": "stdout",
     "output_type": "stream",
     "text": [
      "The r-value is: 0.048963638411834653\n"
     ]
    },
    {
     "data": {
      "image/png": "[encoded data removed]",
      "text/plain": [
       "<Figure size 432x288 with 1 Axes>"
      ]
     },
     "metadata": {
      "needs_background": "light"
     },
     "output_type": "display_data"
    }
   ],
   "source": [
    "x_values= north_hem[\"Lat\"]\n",
    "y_values= north_hem[\"Cloudiness\"]\n",
    "(slope, intercept, rvalue, pvalue, stderr) = linregress(x_values, y_values)\n",
    "regress_values=x_values * slope + intercept\n",
    "line_eq=\"y= \" + str(round(slope,2)) + \"x + \" + str(round(intercept, 2))\n",
    "plt.scatter(x_values, y_values)\n",
    "plt.plot(x_values, regress_values, \"r-\")\n",
    "plt.annotate(line_eq, (40,10), fontsize=15, color=\"red\")\n",
    "plt.xlabel(\"Latitude\")\n",
    "plt.ylabel(\"Cloudiness\")\n",
    "print(f\"The r-value is: {rvalue**2}\")\n",
    "plt.savefig(\"output_data/north_hem_cloudiness_v_lat_plot.png\")\n",
    "plt.show()"
   ]
  },
  {
   "cell_type": "markdown",
   "metadata": {},
   "source": [
    "####  Southern Hemisphere - Cloudiness (%) vs. Latitude Linear Regression"
   ]
  },
  {
   "cell_type": "code",
   "execution_count": 154,
   "metadata": {},
   "outputs": [
    {
     "name": "stdout",
     "output_type": "stream",
     "text": [
      "The r-value is: 0.07152857879693715\n"
     ]
    },
    {
     "data": {
      "image/png": "[encoded data removed]",
      "text/plain": [
       "<Figure size 432x288 with 1 Axes>"
      ]
     },
     "metadata": {
      "needs_background": "light"
     },
     "output_type": "display_data"
    }
   ],
   "source": [
    "x_values= south_hem[\"Lat\"]\n",
    "y_values= south_hem[\"Cloudiness\"]\n",
    "(slope, intercept, rvalue, pvalue, stderr) = linregress(x_values, y_values)\n",
    "regress_values=x_values * slope + intercept\n",
    "line_eq=\"y= \" + str(round(slope,2)) + \"x + \" + str(round(intercept, 2))\n",
    "plt.scatter(x_values, y_values)\n",
    "plt.plot(x_values, regress_values, \"r-\")\n",
    "plt.annotate(line_eq, (-25,30), fontsize=15, color=\"red\")\n",
    "plt.xlabel(\"Latitude\")\n",
    "plt.ylabel(\"Cloudiness\")\n",
    "print(f\"The r-value is: {rvalue**2}\")\n",
    "plt.savefig(\"output_data/south_hem_cloudiness_v_lat_plot.png\")\n",
    "plt.show()"
   ]
  },
  {
   "cell_type": "markdown",
   "metadata": {},
   "source": [
    "####  Northern Hemisphere - Wind Speed (mph) vs. Latitude Linear Regression"
   ]
  },
  {
   "cell_type": "code",
   "execution_count": 155,
   "metadata": {},
   "outputs": [
    {
     "name": "stdout",
     "output_type": "stream",
     "text": [
      "The r-value is: 0.022561360347329758\n"
     ]
    },
    {
     "data": {
      "image/png": "[encoded data removed]",
      "text/plain": [
       "<Figure size 432x288 with 1 Axes>"
      ]
     },
     "metadata": {
      "needs_background": "light"
     },
     "output_type": "display_data"
    }
   ],
   "source": [
    "x_values= north_hem[\"Lat\"]\n",
    "y_values= north_hem[\"Wind Speed\"]\n",
    "(slope, intercept, rvalue, pvalue, stderr) = linregress(x_values, y_values)\n",
    "regress_values=x_values * slope + intercept\n",
    "line_eq=\"y= \" + str(round(slope,2)) + \"x + \" + str(round(intercept, 2))\n",
    "plt.scatter(x_values, y_values)\n",
    "plt.plot(x_values, regress_values, \"r-\")\n",
    "plt.annotate(line_eq, (40,40), fontsize=15, color=\"red\")\n",
    "plt.xlabel(\"Latitude\")\n",
    "plt.ylabel(\"Wind Speed\")\n",
    "print(f\"The r-value is: {rvalue**2}\")\n",
    "plt.savefig(\"output_data/north_hem_wind_v_lat_plot.png\")\n",
    "plt.show()"
   ]
  },
  {
   "cell_type": "markdown",
   "metadata": {},
   "source": [
    "####  Southern Hemisphere - Wind Speed (mph) vs. Latitude Linear Regression"
   ]
  },
  {
   "cell_type": "code",
   "execution_count": 156,
   "metadata": {},
   "outputs": [
    {
     "name": "stdout",
     "output_type": "stream",
     "text": [
      "The r-value is: 0.0637463904194981\n"
     ]
    },
    {
     "data": {
      "image/png": "[encoded data removed]",
      "text/plain": [
       "<Figure size 432x288 with 1 Axes>"
      ]
     },
     "metadata": {
      "needs_background": "light"
     },
     "output_type": "display_data"
    }
   ],
   "source": [
    "x_values= south_hem[\"Lat\"]\n",
    "y_values= south_hem[\"Wind Speed\"]\n",
    "(slope, intercept, rvalue, pvalue, stderr) = linregress(x_values, y_values)\n",
    "regress_values=x_values * slope + intercept\n",
    "line_eq=\"y= \" + str(round(slope,2)) + \"x + \" + str(round(intercept, 2))\n",
    "plt.scatter(x_values, y_values)\n",
    "plt.plot(x_values, regress_values, \"r-\")\n",
    "plt.annotate(line_eq, (-50,20), fontsize=15, color=\"red\")\n",
    "plt.xlabel(\"Latitude\")\n",
    "plt.ylabel(\"Wind Speed\")\n",
    "print(f\"The r-value is: {rvalue**2}\")\n",
    "plt.savefig(\"output_data/south_hem_wind_v_lat_plot.png\")\n",
    "plt.show()\n"
   ]
  },
  {
   "cell_type": "code",
   "execution_count": null,
   "metadata": {},
   "outputs": [],
   "source": []
  }
 ],
 "metadata": {
  "anaconda-cloud": {},
  "kernel_info": {
   "name": "python3"
  },
  "kernelspec": {
   "display_name": "Python 3",
   "language": "python",
   "name": "python3"
  },
  "language_info": {
   "codemirror_mode": {
    "name": "ipython",
    "version": 3
   },
   "file_extension": ".py",
   "mimetype": "text/x-python",
   "name": "python",
   "nbconvert_exporter": "python",
   "pygments_lexer": "ipython3",
   "version": "3.8.5"
  },
  "latex_envs": {
   "LaTeX_envs_menu_present": true,
   "autoclose": false,
   "autocomplete": true,
   "bibliofile": "biblio.bib",
   "cite_by": "apalike",
   "current_citInitial": 1,
   "eqLabelWithNumbers": true,
   "eqNumInitial": 1,
   "hotkeys": {
    "equation": "Ctrl-E",
    "itemize": "Ctrl-I"
   },
   "labels_anchors": false,
   "latex_user_defs": false,
   "report_style_numbering": false,
   "user_envs_cfg": false
  },
  "nteract": {
   "version": "0.12.3"
  }
 },
 "nbformat": 4,
 "nbformat_minor": 2
}
