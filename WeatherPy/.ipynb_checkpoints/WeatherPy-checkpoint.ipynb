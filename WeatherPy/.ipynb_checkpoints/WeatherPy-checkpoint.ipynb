{
 "cells": [
  {
   "cell_type": "markdown",
   "metadata": {},
   "source": [
    "# WeatherPy\n",
    "----\n",
    "\n",
    "#### Note\n",
    "* Instructions have been included for each segment. You do not have to follow them exactly, but they are included to help you think through the steps."
   ]
  },
  {
   "cell_type": "markdown",
   "metadata": {},
   "source": [
    "OBSERVATIONS:\n",
    "1. There is definetly a direct relationship between latitude location and maximum temperatues. The highest maximum temperatures are found near 0, concentrated between -20 and 20. This is due to the sun's direct angle at this part of the Earth. As the latitude's move away from 0, temperatures drop. \n",
    "\n",
    "2. There appears to be no direct relationship between latitude location and humidity, wind, and cloudiness. \n",
    "These weather conditions may be effected by other factors unrelated to latitude. All have r-values that pointed to weak or no correlations.\n",
    "\n",
    "3. The northern hemisphere's correlation of latitude location and maximum temperates are stronger than that of the southern hemisphere. The southern hemisphere may not have this strong of a relationship due to there being more bodies of water and less land compared to the northern hemisphere. The large bodies of water may be factor in the varying tempatures."
   ]
  },
  {
   "cell_type": "code",
   "execution_count": null,
   "metadata": {},
   "outputs": [],
   "source": [
    "#! pip install citipy"
   ]
  },
  {
   "cell_type": "code",
   "execution_count": 1,
   "metadata": {
    "scrolled": true
   },
   "outputs": [],
   "source": [
    "# Dependencies and Setup\n",
    "import matplotlib.pyplot as plt\n",
    "import pandas as pd\n",
    "import numpy as np\n",
    "import requests\n",
    "import time\n",
    "from scipy.stats import linregress\n",
    "\n",
    "# Import API key\n",
    "from api_keys import weather_api_key\n",
    "\n",
    "\n",
    "\n",
    "# Incorporated citipy to determine city based on latitude and longitude\n",
    "from citipy import citipy\n",
    "\n",
    "# Output File (CSV)\n",
    "output_data_file = \"output_data/cities.csv\"\n",
    "\n",
    "# Range of latitudes and longitudes\n",
    "lat_range = (-90, 90)\n",
    "lng_range = (-180, 180)"
   ]
  },
  {
   "cell_type": "markdown",
   "metadata": {},
   "source": [
    "## Generate Cities List"
   ]
  },
  {
   "cell_type": "code",
   "execution_count": 2,
   "metadata": {},
   "outputs": [
    {
     "data": {
      "text/plain": [
       "611"
      ]
     },
     "execution_count": 2,
     "metadata": {},
     "output_type": "execute_result"
    }
   ],
   "source": [
    "# List for holding lat_lngs and cities\n",
    "lat_lngs = []\n",
    "cities = []\n",
    "\n",
    "# Create a set of random lat and lng combinations\n",
    "lats = np.random.uniform(lat_range[0], lat_range[1], size=1500)\n",
    "lngs = np.random.uniform(lng_range[0], lng_range[1], size=1500)\n",
    "lat_lngs = zip(lats, lngs)\n",
    "\n",
    "# Identify nearest city for each lat, lng combination\n",
    "for lat_lng in lat_lngs:\n",
    "    city = citipy.nearest_city(lat_lng[0], lat_lng[1]).city_name\n",
    "    \n",
    "    # If the city is unique, then add it to a our cities list\n",
    "    if city not in cities:\n",
    "        cities.append(city)\n",
    "\n",
    "# Print the city count to confirm sufficient count\n",
    "len(cities)"
   ]
  },
  {
   "cell_type": "markdown",
   "metadata": {},
   "source": [
    "### Perform API Calls\n",
    "* Perform a weather check on each city using a series of successive API calls.\n",
    "* Include a print log of each city as it'sbeing processed (with the city number and city name).\n",
    "\n",
    "> **HINT:** The OpenWeatherMap API only allows 60 calls per minute under their free plan. Try using `time.sleep(60)` after each set of 50 cities to avoid API errors due to large calls."
   ]
  },
  {
   "cell_type": "code",
   "execution_count": 3,
   "metadata": {},
   "outputs": [
    {
     "name": "stdout",
     "output_type": "stream",
     "text": [
      "Beginning Data Retrieval\n",
      "-----------------------------\n",
      "Processing Record 1 of Set 1 | flinders\n",
      "Processing Record 2 of Set 1 | sept-iles\n",
      "Processing Record 3 of Set 1 | albany\n",
      "Processing Record 4 of Set 1 | ekibastuz\n",
      "City not found. Skipping...\n",
      "Processing Record 5 of Set 1 | marienburg\n",
      "Processing Record 6 of Set 1 | aktau\n",
      "Processing Record 7 of Set 1 | cape town\n",
      "Processing Record 8 of Set 1 | port alfred\n",
      "Processing Record 9 of Set 1 | kaitangata\n",
      "Processing Record 10 of Set 1 | rikitea\n",
      "Processing Record 11 of Set 1 | busselton\n",
      "Processing Record 12 of Set 1 | georgetown\n",
      "Processing Record 13 of Set 1 | kyzyl-suu\n",
      "Processing Record 14 of Set 1 | oria\n",
      "Processing Record 15 of Set 1 | upernavik\n",
      "City not found. Skipping...\n",
      "Processing Record 16 of Set 1 | yellowknife\n",
      "City not found. Skipping...\n",
      "Processing Record 17 of Set 1 | bathsheba\n",
      "Processing Record 18 of Set 1 | port-cartier\n",
      "Processing Record 19 of Set 1 | punta arenas\n",
      "Processing Record 20 of Set 1 | kakonko\n",
      "City not found. Skipping...\n",
      "Processing Record 21 of Set 1 | arraial do cabo\n",
      "Processing Record 22 of Set 1 | pedro ii\n",
      "Processing Record 23 of Set 1 | hobart\n",
      "Processing Record 24 of Set 1 | ushuaia\n",
      "Processing Record 25 of Set 1 | kavieng\n",
      "Processing Record 26 of Set 1 | channel-port aux basques\n",
      "Processing Record 27 of Set 1 | baruun-urt\n",
      "Processing Record 28 of Set 1 | jamestown\n",
      "Processing Record 29 of Set 1 | rawson\n",
      "Processing Record 30 of Set 1 | qaanaaq\n",
      "Processing Record 31 of Set 1 | mataura\n",
      "Processing Record 32 of Set 1 | butaritari\n",
      "Processing Record 33 of Set 1 | rabat\n",
      "City not found. Skipping...\n",
      "Processing Record 34 of Set 1 | vila velha\n",
      "Processing Record 35 of Set 1 | kapaa\n",
      "Processing Record 36 of Set 1 | asau\n",
      "Processing Record 37 of Set 1 | havre-saint-pierre\n",
      "Processing Record 38 of Set 1 | hithadhoo\n",
      "Processing Record 39 of Set 1 | yerbogachen\n",
      "Processing Record 40 of Set 1 | dutse\n",
      "Processing Record 41 of Set 1 | taoudenni\n",
      "Processing Record 42 of Set 1 | atuona\n",
      "Processing Record 43 of Set 1 | santona\n",
      "Processing Record 44 of Set 1 | komsomolskiy\n",
      "Processing Record 45 of Set 1 | calamar\n",
      "Processing Record 46 of Set 1 | hermanus\n",
      "Processing Record 47 of Set 1 | tuktoyaktuk\n",
      "Processing Record 48 of Set 1 | nishihara\n",
      "City not found. Skipping...\n",
      "Processing Record 49 of Set 1 | nouakchott\n",
      "Processing Record 50 of Set 1 | slave lake\n",
      "Processing Record 0 of Set 2 | odweyne\n",
      "Processing Record 1 of Set 2 | byumba\n",
      "Processing Record 2 of Set 2 | avarua\n",
      "Processing Record 3 of Set 2 | nador\n",
      "Processing Record 4 of Set 2 | mahebourg\n",
      "Processing Record 5 of Set 2 | castro\n",
      "Processing Record 6 of Set 2 | presidente olegario\n",
      "Processing Record 7 of Set 2 | tiksi\n",
      "City not found. Skipping...\n",
      "Processing Record 8 of Set 2 | chokurdakh\n",
      "Processing Record 9 of Set 2 | san patricio\n",
      "Processing Record 10 of Set 2 | barrow\n",
      "Processing Record 11 of Set 2 | vaini\n",
      "Processing Record 12 of Set 2 | lanxi\n",
      "Processing Record 13 of Set 2 | tres arroyos\n",
      "City not found. Skipping...\n",
      "Processing Record 14 of Set 2 | bluff\n",
      "Processing Record 15 of Set 2 | carnarvon\n",
      "Processing Record 16 of Set 2 | sitka\n",
      "Processing Record 17 of Set 2 | fukuma\n",
      "Processing Record 18 of Set 2 | salamiyah\n",
      "Processing Record 19 of Set 2 | dikson\n",
      "Processing Record 20 of Set 2 | praia da vitoria\n",
      "Processing Record 21 of Set 2 | lahat\n",
      "Processing Record 22 of Set 2 | cidreira\n",
      "Processing Record 23 of Set 2 | union de tula\n",
      "Processing Record 24 of Set 2 | aksha\n",
      "Processing Record 25 of Set 2 | ilo\n",
      "Processing Record 26 of Set 2 | saint-philippe\n",
      "Processing Record 27 of Set 2 | vrangel\n",
      "City not found. Skipping...\n",
      "Processing Record 28 of Set 2 | tocopilla\n",
      "Processing Record 29 of Set 2 | verkh-usugli\n",
      "Processing Record 30 of Set 2 | lazi\n",
      "Processing Record 31 of Set 2 | ribeira grande\n",
      "Processing Record 32 of Set 2 | cabo san lucas\n",
      "Processing Record 33 of Set 2 | barcelos\n",
      "Processing Record 34 of Set 2 | ponta do sol\n",
      "Processing Record 35 of Set 2 | waingapu\n",
      "City not found. Skipping...\n",
      "Processing Record 36 of Set 2 | caibarien\n",
      "Processing Record 37 of Set 2 | talavera\n",
      "Processing Record 38 of Set 2 | alofi\n",
      "Processing Record 39 of Set 2 | khatanga\n",
      "Processing Record 40 of Set 2 | ossora\n",
      "Processing Record 41 of Set 2 | bijie\n",
      "Processing Record 42 of Set 2 | bredasdorp\n",
      "Processing Record 43 of Set 2 | sinegorye\n",
      "Processing Record 44 of Set 2 | yellapur\n",
      "Processing Record 45 of Set 2 | ahipara\n",
      "Processing Record 46 of Set 2 | lebu\n",
      "Processing Record 47 of Set 2 | bitung\n",
      "Processing Record 48 of Set 2 | nanortalik\n",
      "City not found. Skipping...\n",
      "Processing Record 49 of Set 2 | port pirie\n",
      "Processing Record 50 of Set 2 | zhigansk\n",
      "City not found. Skipping...\n",
      "Processing Record 0 of Set 3 | east london\n",
      "Processing Record 1 of Set 3 | boca do acre\n",
      "Processing Record 2 of Set 3 | bambous virieux\n",
      "Processing Record 3 of Set 3 | omsukchan\n",
      "City not found. Skipping...\n",
      "Processing Record 4 of Set 3 | lhokseumawe\n",
      "Processing Record 5 of Set 3 | assis\n",
      "Processing Record 6 of Set 3 | thompson\n",
      "Processing Record 7 of Set 3 | comodoro rivadavia\n",
      "Processing Record 8 of Set 3 | saldanha\n",
      "Processing Record 9 of Set 3 | nome\n",
      "Processing Record 10 of Set 3 | hamilton\n",
      "Processing Record 11 of Set 3 | guerrero negro\n",
      "Processing Record 12 of Set 3 | chifeng\n",
      "Processing Record 13 of Set 3 | kommunar\n",
      "Processing Record 14 of Set 3 | mar del plata\n",
      "City not found. Skipping...\n",
      "Processing Record 15 of Set 3 | vao\n",
      "Processing Record 16 of Set 3 | ilulissat\n",
      "Processing Record 17 of Set 3 | ambilobe\n",
      "Processing Record 18 of Set 3 | gat\n",
      "Processing Record 19 of Set 3 | coquimbo\n",
      "City not found. Skipping...\n",
      "Processing Record 20 of Set 3 | puerto del rosario\n",
      "Processing Record 21 of Set 3 | luderitz\n",
      "Processing Record 22 of Set 3 | faanui\n",
      "Processing Record 23 of Set 3 | skibbereen\n",
      "Processing Record 24 of Set 3 | coahuayana\n",
      "Processing Record 25 of Set 3 | zhanaozen\n",
      "Processing Record 26 of Set 3 | port lincoln\n",
      "Processing Record 27 of Set 3 | nisia floresta\n",
      "Processing Record 28 of Set 3 | jurado\n",
      "Processing Record 29 of Set 3 | hargeysa\n",
      "Processing Record 30 of Set 3 | umtata\n",
      "City not found. Skipping...\n",
      "City not found. Skipping...\n",
      "Processing Record 31 of Set 3 | beisfjord\n",
      "Processing Record 32 of Set 3 | provideniya\n",
      "Processing Record 33 of Set 3 | amurzet\n",
      "Processing Record 34 of Set 3 | luanda\n",
      "Processing Record 35 of Set 3 | petropavlovsk-kamchatskiy\n",
      "Processing Record 36 of Set 3 | manokwari\n",
      "Processing Record 37 of Set 3 | iqaluit\n",
      "Processing Record 38 of Set 3 | uruzgan\n",
      "Processing Record 39 of Set 3 | ramanuj ganj\n",
      "Processing Record 40 of Set 3 | padang\n",
      "Processing Record 41 of Set 3 | sobolevo\n",
      "City not found. Skipping...\n",
      "Processing Record 42 of Set 3 | avera\n",
      "Processing Record 43 of Set 3 | haines junction\n",
      "Processing Record 44 of Set 3 | sabha\n",
      "Processing Record 45 of Set 3 | ozark\n",
      "Processing Record 46 of Set 3 | mangrol\n",
      "Processing Record 47 of Set 3 | hasaki\n",
      "Processing Record 48 of Set 3 | karlstad\n",
      "Processing Record 49 of Set 3 | bubaque\n",
      "Processing Record 50 of Set 3 | hilo\n",
      "City not found. Skipping...\n",
      "Processing Record 0 of Set 4 | samfya\n",
      "Processing Record 1 of Set 4 | severo-kurilsk\n",
      "Processing Record 2 of Set 4 | chuy\n",
      "Processing Record 3 of Set 4 | ust-nera\n",
      "Processing Record 4 of Set 4 | salalah\n",
      "Processing Record 5 of Set 4 | pirovskoye\n",
      "Processing Record 6 of Set 4 | puerto ayora\n",
      "Processing Record 7 of Set 4 | souillac\n",
      "Processing Record 8 of Set 4 | klaksvik\n",
      "Processing Record 9 of Set 4 | batouri\n",
      "Processing Record 10 of Set 4 | orsha\n",
      "Processing Record 11 of Set 4 | ulaangom\n",
      "Processing Record 12 of Set 4 | halifax\n",
      "Processing Record 13 of Set 4 | coos bay\n",
      "Processing Record 14 of Set 4 | ixtapa\n",
      "Processing Record 15 of Set 4 | bonthe\n",
      "Processing Record 16 of Set 4 | maniitsoq\n",
      "Processing Record 17 of Set 4 | tasiilaq\n",
      "Processing Record 18 of Set 4 | champua\n",
      "Processing Record 19 of Set 4 | muros\n",
      "Processing Record 20 of Set 4 | talaya\n",
      "Processing Record 21 of Set 4 | new norfolk\n",
      "Processing Record 22 of Set 4 | longyearbyen\n",
      "Processing Record 23 of Set 4 | beringovskiy\n",
      "Processing Record 24 of Set 4 | adrar\n",
      "Processing Record 25 of Set 4 | port hardy\n",
      "Processing Record 26 of Set 4 | pemberton\n",
      "City not found. Skipping...\n",
      "Processing Record 27 of Set 4 | sembakung\n",
      "Processing Record 28 of Set 4 | torbay\n",
      "Processing Record 29 of Set 4 | todos santos\n",
      "Processing Record 30 of Set 4 | umm kaddadah\n"
     ]
    },
    {
     "name": "stdout",
     "output_type": "stream",
     "text": [
      "Processing Record 31 of Set 4 | clyde river\n",
      "Processing Record 32 of Set 4 | dunedin\n",
      "Processing Record 33 of Set 4 | aquiraz\n",
      "Processing Record 34 of Set 4 | cartagena\n",
      "Processing Record 35 of Set 4 | krasnoselkup\n",
      "Processing Record 36 of Set 4 | ghanzi\n",
      "Processing Record 37 of Set 4 | bay city\n",
      "Processing Record 38 of Set 4 | xiongzhou\n",
      "Processing Record 39 of Set 4 | yulara\n",
      "Processing Record 40 of Set 4 | saint-joseph\n",
      "Processing Record 41 of Set 4 | saint-georges\n",
      "Processing Record 42 of Set 4 | pilar\n",
      "Processing Record 43 of Set 4 | obo\n",
      "Processing Record 44 of Set 4 | rio grande\n",
      "Processing Record 45 of Set 4 | yazykovo\n",
      "Processing Record 46 of Set 4 | port elizabeth\n",
      "Processing Record 47 of Set 4 | carson city\n",
      "Processing Record 48 of Set 4 | limburg\n",
      "Processing Record 49 of Set 4 | geraldton\n",
      "Processing Record 50 of Set 4 | hovd\n",
      "Processing Record 0 of Set 5 | lata\n",
      "Processing Record 1 of Set 5 | iberia\n",
      "City not found. Skipping...\n",
      "Processing Record 2 of Set 5 | derzhavinsk\n",
      "Processing Record 3 of Set 5 | amberley\n",
      "Processing Record 4 of Set 5 | samarai\n",
      "Processing Record 5 of Set 5 | kushmurun\n",
      "Processing Record 6 of Set 5 | port angeles\n",
      "Processing Record 7 of Set 5 | brandon\n",
      "Processing Record 8 of Set 5 | mega\n",
      "Processing Record 9 of Set 5 | narsaq\n",
      "Processing Record 10 of Set 5 | saskylakh\n",
      "Processing Record 11 of Set 5 | bagepalli\n",
      "City not found. Skipping...\n",
      "Processing Record 12 of Set 5 | mittweida\n",
      "Processing Record 13 of Set 5 | los lunas\n",
      "Processing Record 14 of Set 5 | fereydun kenar\n",
      "Processing Record 15 of Set 5 | abrau-dyurso\n",
      "Processing Record 16 of Set 5 | punta de bombon\n",
      "Processing Record 17 of Set 5 | hambantota\n",
      "Processing Record 18 of Set 5 | ashland\n",
      "Processing Record 19 of Set 5 | kamaishi\n",
      "Processing Record 20 of Set 5 | dandong\n",
      "Processing Record 21 of Set 5 | kahului\n",
      "Processing Record 22 of Set 5 | nizhneivkino\n",
      "Processing Record 23 of Set 5 | moree\n",
      "Processing Record 24 of Set 5 | tabou\n",
      "Processing Record 25 of Set 5 | tuatapere\n",
      "Processing Record 26 of Set 5 | palmer\n",
      "Processing Record 27 of Set 5 | berlevag\n",
      "Processing Record 28 of Set 5 | lagos\n",
      "Processing Record 29 of Set 5 | araouane\n",
      "Processing Record 30 of Set 5 | naze\n",
      "City not found. Skipping...\n",
      "City not found. Skipping...\n",
      "Processing Record 31 of Set 5 | mpika\n",
      "Processing Record 32 of Set 5 | calvia\n",
      "Processing Record 33 of Set 5 | isla mujeres\n",
      "Processing Record 34 of Set 5 | la trinidad\n",
      "Processing Record 35 of Set 5 | labuhan\n",
      "Processing Record 36 of Set 5 | leningradskiy\n",
      "Processing Record 37 of Set 5 | mocuba\n",
      "Processing Record 38 of Set 5 | pisco\n",
      "Processing Record 39 of Set 5 | hounde\n",
      "Processing Record 40 of Set 5 | ribeirao branco\n",
      "Processing Record 41 of Set 5 | vardo\n",
      "Processing Record 42 of Set 5 | iglesias\n",
      "Processing Record 43 of Set 5 | privolzhskiy\n",
      "Processing Record 44 of Set 5 | the valley\n",
      "Processing Record 45 of Set 5 | bulawayo\n",
      "Processing Record 46 of Set 5 | gao\n",
      "Processing Record 47 of Set 5 | sao gabriel da cachoeira\n",
      "Processing Record 48 of Set 5 | waddan\n",
      "Processing Record 49 of Set 5 | gubkinskiy\n",
      "Processing Record 50 of Set 5 | pevek\n",
      "Processing Record 0 of Set 6 | atar\n",
      "Processing Record 1 of Set 6 | bow island\n",
      "Processing Record 2 of Set 6 | yar-sale\n",
      "City not found. Skipping...\n",
      "Processing Record 3 of Set 6 | dobrusevo\n",
      "Processing Record 4 of Set 6 | kenora\n",
      "Processing Record 5 of Set 6 | cam ranh\n",
      "City not found. Skipping...\n",
      "Processing Record 6 of Set 6 | dingle\n",
      "Processing Record 7 of Set 6 | kidal\n",
      "Processing Record 8 of Set 6 | jieshi\n",
      "Processing Record 9 of Set 6 | middelburg\n",
      "Processing Record 10 of Set 6 | bengkulu\n",
      "Processing Record 11 of Set 6 | storforshei\n",
      "Processing Record 12 of Set 6 | menomonie\n",
      "Processing Record 13 of Set 6 | port blair\n",
      "Processing Record 14 of Set 6 | prieska\n",
      "City not found. Skipping...\n",
      "Processing Record 15 of Set 6 | kamyshlov\n",
      "Processing Record 16 of Set 6 | sao filipe\n",
      "Processing Record 17 of Set 6 | gwadar\n",
      "Processing Record 18 of Set 6 | nyurba\n",
      "Processing Record 19 of Set 6 | camaqua\n",
      "Processing Record 20 of Set 6 | maku\n",
      "Processing Record 21 of Set 6 | palora\n",
      "Processing Record 22 of Set 6 | namibe\n",
      "Processing Record 23 of Set 6 | mehamn\n",
      "City not found. Skipping...\n",
      "Processing Record 24 of Set 6 | saint-denis\n",
      "Processing Record 25 of Set 6 | jacareacanga\n",
      "Processing Record 26 of Set 6 | riyadh\n",
      "City not found. Skipping...\n",
      "Processing Record 27 of Set 6 | russell\n",
      "Processing Record 28 of Set 6 | seddon\n",
      "Processing Record 29 of Set 6 | kargopol\n",
      "City not found. Skipping...\n",
      "Processing Record 30 of Set 6 | barra do garcas\n",
      "Processing Record 31 of Set 6 | arman\n",
      "Processing Record 32 of Set 6 | isangel\n",
      "City not found. Skipping...\n",
      "Processing Record 33 of Set 6 | taywarah\n",
      "Processing Record 34 of Set 6 | talnakh\n",
      "Processing Record 35 of Set 6 | panzhihua\n",
      "Processing Record 36 of Set 6 | almaznyy\n",
      "City not found. Skipping...\n",
      "Processing Record 37 of Set 6 | bethel\n",
      "Processing Record 38 of Set 6 | aklavik\n",
      "Processing Record 39 of Set 6 | marawi\n",
      "Processing Record 40 of Set 6 | katsuura\n",
      "City not found. Skipping...\n",
      "Processing Record 41 of Set 6 | karema\n",
      "Processing Record 42 of Set 6 | pelym\n",
      "Processing Record 43 of Set 6 | nuuk\n",
      "Processing Record 44 of Set 6 | palamedu\n",
      "Processing Record 45 of Set 6 | aswan\n",
      "Processing Record 46 of Set 6 | vilhena\n",
      "Processing Record 47 of Set 6 | san ramon\n",
      "Processing Record 48 of Set 6 | puro\n",
      "Processing Record 49 of Set 6 | cherskiy\n",
      "Processing Record 50 of Set 6 | karratha\n",
      "Processing Record 0 of Set 7 | broome\n",
      "Processing Record 1 of Set 7 | itarema\n",
      "Processing Record 2 of Set 7 | ahuimanu\n",
      "Processing Record 3 of Set 7 | kodiak\n",
      "Processing Record 4 of Set 7 | dom pedrito\n",
      "City not found. Skipping...\n",
      "Processing Record 5 of Set 7 | beyneu\n",
      "Processing Record 6 of Set 7 | gasa\n",
      "Processing Record 7 of Set 7 | ibra\n",
      "Processing Record 8 of Set 7 | cockburn town\n",
      "Processing Record 9 of Set 7 | yukamenskoye\n",
      "Processing Record 10 of Set 7 | novikovo\n",
      "Processing Record 11 of Set 7 | nikolskoye\n",
      "Processing Record 12 of Set 7 | price\n",
      "Processing Record 13 of Set 7 | bilibino\n",
      "Processing Record 14 of Set 7 | neya\n",
      "Processing Record 15 of Set 7 | tan an\n",
      "Processing Record 16 of Set 7 | margate\n",
      "Processing Record 17 of Set 7 | ugoofaaru\n",
      "Processing Record 18 of Set 7 | qaqortoq\n",
      "Processing Record 19 of Set 7 | viedma\n",
      "Processing Record 20 of Set 7 | fiumicino\n",
      "City not found. Skipping...\n",
      "Processing Record 21 of Set 7 | kupang\n",
      "Processing Record 22 of Set 7 | dubuque\n",
      "Processing Record 23 of Set 7 | canakkale\n",
      "City not found. Skipping...\n",
      "Processing Record 24 of Set 7 | iralaya\n",
      "Processing Record 25 of Set 7 | mwinilunga\n",
      "Processing Record 26 of Set 7 | bhanjanagar\n",
      "City not found. Skipping...\n",
      "City not found. Skipping...\n",
      "Processing Record 27 of Set 7 | ust-kuyga\n",
      "Processing Record 28 of Set 7 | merauke\n",
      "Processing Record 29 of Set 7 | huarmey\n",
      "Processing Record 30 of Set 7 | urumqi\n",
      "Processing Record 31 of Set 7 | porto novo\n",
      "Processing Record 32 of Set 7 | portland\n",
      "Processing Record 33 of Set 7 | waipawa\n",
      "Processing Record 34 of Set 7 | taonan\n",
      "Processing Record 35 of Set 7 | vostok\n",
      "Processing Record 36 of Set 7 | oyama\n",
      "Processing Record 37 of Set 7 | belaya gora\n",
      "Processing Record 38 of Set 7 | marrakesh\n",
      "Processing Record 39 of Set 7 | san pedro\n",
      "Processing Record 40 of Set 7 | novo aripuana\n",
      "Processing Record 41 of Set 7 | chumikan\n",
      "Processing Record 42 of Set 7 | hibbing\n",
      "Processing Record 43 of Set 7 | chute-aux-outardes\n",
      "Processing Record 44 of Set 7 | marsh harbour\n",
      "Processing Record 45 of Set 7 | manta\n",
      "Processing Record 46 of Set 7 | hirara\n",
      "Processing Record 47 of Set 7 | altamirano\n",
      "Processing Record 48 of Set 7 | kotido\n",
      "City not found. Skipping...\n",
      "Processing Record 49 of Set 7 | kargasok\n",
      "Processing Record 50 of Set 7 | capaccio\n",
      "Processing Record 0 of Set 8 | constitucion\n",
      "Processing Record 1 of Set 8 | bima\n",
      "Processing Record 2 of Set 8 | morondava\n",
      "Processing Record 3 of Set 8 | caravelas\n",
      "Processing Record 4 of Set 8 | sao joao da barra\n",
      "Processing Record 5 of Set 8 | santa isabel do rio negro\n",
      "Processing Record 6 of Set 8 | turbat\n",
      "Processing Record 7 of Set 8 | humaita\n",
      "Processing Record 8 of Set 8 | thinadhoo\n",
      "Processing Record 9 of Set 8 | fairbanks\n",
      "Processing Record 10 of Set 8 | rovaniemi\n",
      "City not found. Skipping...\n",
      "Processing Record 11 of Set 8 | cairns\n",
      "Processing Record 12 of Set 8 | los llanos de aridane\n",
      "Processing Record 13 of Set 8 | esperance\n"
     ]
    },
    {
     "name": "stdout",
     "output_type": "stream",
     "text": [
      "Processing Record 14 of Set 8 | inhambane\n",
      "Processing Record 15 of Set 8 | olecko\n",
      "Processing Record 16 of Set 8 | darhan\n",
      "City not found. Skipping...\n",
      "Processing Record 17 of Set 8 | saint-pierre\n",
      "Processing Record 18 of Set 8 | wuda\n",
      "Processing Record 19 of Set 8 | gibara\n",
      "Processing Record 20 of Set 8 | saint george\n",
      "Processing Record 21 of Set 8 | andenes\n",
      "Processing Record 22 of Set 8 | nampula\n",
      "Processing Record 23 of Set 8 | beira\n",
      "Processing Record 24 of Set 8 | kandrian\n",
      "Processing Record 25 of Set 8 | victoria\n",
      "Processing Record 26 of Set 8 | tilichiki\n",
      "Processing Record 27 of Set 8 | lagoa\n",
      "Processing Record 28 of Set 8 | panalingaan\n",
      "Processing Record 29 of Set 8 | hobyo\n",
      "Processing Record 30 of Set 8 | sambava\n",
      "Processing Record 31 of Set 8 | roma\n",
      "City not found. Skipping...\n",
      "Processing Record 32 of Set 8 | lexington\n",
      "Processing Record 33 of Set 8 | monrovia\n",
      "Processing Record 34 of Set 8 | dudinka\n",
      "Processing Record 35 of Set 8 | santa fe\n",
      "Processing Record 36 of Set 8 | hami\n",
      "Processing Record 37 of Set 8 | san-pedro\n",
      "Processing Record 38 of Set 8 | onega\n",
      "Processing Record 39 of Set 8 | kamyshin\n",
      "Processing Record 40 of Set 8 | newcastleton\n",
      "Processing Record 41 of Set 8 | elliot lake\n",
      "Processing Record 42 of Set 8 | rudbar\n",
      "Processing Record 43 of Set 8 | mayo\n",
      "Processing Record 44 of Set 8 | escanaba\n",
      "Processing Record 45 of Set 8 | dakar\n",
      "Processing Record 46 of Set 8 | silvan\n",
      "Processing Record 47 of Set 8 | canton\n",
      "Processing Record 48 of Set 8 | nouadhibou\n",
      "Processing Record 49 of Set 8 | marsa matruh\n",
      "City not found. Skipping...\n",
      "Processing Record 50 of Set 8 | fare\n",
      "City not found. Skipping...\n",
      "Processing Record 0 of Set 9 | dubai\n",
      "Processing Record 1 of Set 9 | nokaneng\n",
      "Processing Record 2 of Set 9 | trincomalee\n",
      "Processing Record 3 of Set 9 | plover\n",
      "Processing Record 4 of Set 9 | rocha\n",
      "Processing Record 5 of Set 9 | urdoma\n",
      "Processing Record 6 of Set 9 | emerald\n",
      "Processing Record 7 of Set 9 | masuguru\n",
      "Processing Record 8 of Set 9 | bull savanna\n",
      "Processing Record 9 of Set 9 | vila franca do campo\n",
      "Processing Record 10 of Set 9 | turukhansk\n",
      "Processing Record 11 of Set 9 | ponta delgada\n",
      "Processing Record 12 of Set 9 | corinto\n",
      "City not found. Skipping...\n",
      "Processing Record 13 of Set 9 | troitsk\n",
      "Processing Record 14 of Set 9 | caxito\n",
      "Processing Record 15 of Set 9 | garachine\n",
      "Processing Record 16 of Set 9 | sayyan\n",
      "Processing Record 17 of Set 9 | huicheng\n",
      "Processing Record 18 of Set 9 | lompoc\n",
      "Processing Record 19 of Set 9 | ketchikan\n",
      "Processing Record 20 of Set 9 | rodniki\n",
      "Processing Record 21 of Set 9 | coihaique\n",
      "Processing Record 22 of Set 9 | dukat\n",
      "City not found. Skipping...\n",
      "Processing Record 23 of Set 9 | santa marta de tormes\n",
      "Processing Record 24 of Set 9 | north bend\n",
      "Processing Record 25 of Set 9 | trinidad\n",
      "Processing Record 26 of Set 9 | pangody\n",
      "City not found. Skipping...\n",
      "Processing Record 27 of Set 9 | alamos\n",
      "Processing Record 28 of Set 9 | mitsamiouli\n",
      "Processing Record 29 of Set 9 | luwero\n",
      "Processing Record 30 of Set 9 | ancud\n",
      "Processing Record 31 of Set 9 | tottori\n",
      "Processing Record 32 of Set 9 | antalaha\n",
      "Processing Record 33 of Set 9 | anadyr\n",
      "Processing Record 34 of Set 9 | bela\n",
      "Processing Record 35 of Set 9 | kailua\n",
      "Processing Record 36 of Set 9 | lethem\n",
      "Processing Record 37 of Set 9 | krasnyy kholm\n",
      "Processing Record 38 of Set 9 | alekseyevsk\n",
      "Processing Record 39 of Set 9 | alice springs\n",
      "Processing Record 40 of Set 9 | iowa city\n",
      "Processing Record 41 of Set 9 | cumbum\n",
      "Processing Record 42 of Set 9 | codrington\n",
      "Processing Record 43 of Set 9 | loandjili\n",
      "City not found. Skipping...\n",
      "Processing Record 44 of Set 9 | aguimes\n",
      "Processing Record 45 of Set 9 | loreto\n",
      "Processing Record 46 of Set 9 | rabo de peixe\n",
      "Processing Record 47 of Set 9 | kasongo-lunda\n",
      "Processing Record 48 of Set 9 | antofagasta\n",
      "Processing Record 49 of Set 9 | alyangula\n",
      "Processing Record 50 of Set 9 | staraya russa\n",
      "Processing Record 0 of Set 10 | arlit\n",
      "City not found. Skipping...\n",
      "Processing Record 1 of Set 10 | lodja\n",
      "Processing Record 2 of Set 10 | balkhash\n",
      "City not found. Skipping...\n",
      "Processing Record 3 of Set 10 | rohnert park\n",
      "Processing Record 4 of Set 10 | opuwo\n",
      "Processing Record 5 of Set 10 | omboue\n",
      "City not found. Skipping...\n",
      "City not found. Skipping...\n",
      "Processing Record 6 of Set 10 | ongandjera\n",
      "Processing Record 7 of Set 10 | gushikawa\n",
      "Processing Record 8 of Set 10 | doctor arroyo\n",
      "Processing Record 9 of Set 10 | svetlyy\n",
      "Processing Record 10 of Set 10 | teguldet\n",
      "Processing Record 11 of Set 10 | east massapequa\n",
      "Processing Record 12 of Set 10 | kamareddi\n",
      "Processing Record 13 of Set 10 | casper\n",
      "Processing Record 14 of Set 10 | abashiri\n",
      "Processing Record 15 of Set 10 | mokhsogollokh\n",
      "City not found. Skipping...\n",
      "Processing Record 16 of Set 10 | beloomut\n",
      "Processing Record 17 of Set 10 | nemuro\n",
      "Processing Record 18 of Set 10 | soyo\n",
      "Processing Record 19 of Set 10 | imbituba\n",
      "Processing Record 20 of Set 10 | okhotsk\n",
      "Processing Record 21 of Set 10 | lewistown\n",
      "Processing Record 22 of Set 10 | yumen\n",
      "Processing Record 23 of Set 10 | kikwit\n",
      "Processing Record 24 of Set 10 | lasa\n",
      "Processing Record 25 of Set 10 | praya\n",
      "Processing Record 26 of Set 10 | banda aceh\n",
      "Processing Record 27 of Set 10 | kiruna\n",
      "Processing Record 28 of Set 10 | necochea\n",
      "Processing Record 29 of Set 10 | hong gai\n",
      "City not found. Skipping...\n",
      "Processing Record 30 of Set 10 | shingu\n",
      "Processing Record 31 of Set 10 | la rioja\n",
      "Processing Record 32 of Set 10 | castelo do piaui\n",
      "Processing Record 33 of Set 10 | ordubad\n",
      "Processing Record 34 of Set 10 | pulandian\n",
      "Processing Record 35 of Set 10 | ayorou\n",
      "Processing Record 36 of Set 10 | atasu\n",
      "Processing Record 37 of Set 10 | kourou\n",
      "Processing Record 38 of Set 10 | plouzane\n",
      "Processing Record 39 of Set 10 | kango\n",
      "Processing Record 40 of Set 10 | golden gate\n",
      "Processing Record 41 of Set 10 | khandyga\n",
      "Processing Record 42 of Set 10 | ust-ishim\n",
      "Processing Record 43 of Set 10 | mount isa\n",
      "Processing Record 44 of Set 10 | bibiani\n",
      "Processing Record 45 of Set 10 | axim\n",
      "Processing Record 46 of Set 10 | sturgis\n",
      "Processing Record 47 of Set 10 | bac lieu\n",
      "Processing Record 48 of Set 10 | bagli\n",
      "Processing Record 49 of Set 10 | tiarei\n",
      "Processing Record 50 of Set 10 | filingue\n",
      "Processing Record 0 of Set 11 | rio gallegos\n",
      "Processing Record 1 of Set 11 | plettenberg bay\n",
      "Processing Record 2 of Set 11 | shenjiamen\n",
      "Processing Record 3 of Set 11 | chardara\n",
      "Processing Record 4 of Set 11 | nevers\n",
      "City not found. Skipping...\n",
      "Processing Record 5 of Set 11 | vanavara\n",
      "Processing Record 6 of Set 11 | vestmannaeyjar\n",
      "Processing Record 7 of Set 11 | meulaboh\n",
      "City not found. Skipping...\n",
      "Processing Record 8 of Set 11 | airai\n",
      "Processing Record 9 of Set 11 | collie\n",
      "Processing Record 10 of Set 11 | tezu\n",
      "City not found. Skipping...\n",
      "Processing Record 11 of Set 11 | iisalmi\n",
      "Processing Record 12 of Set 11 | novyy urgal\n",
      "Processing Record 13 of Set 11 | sur\n",
      "Processing Record 14 of Set 11 | mae hong son\n",
      "Processing Record 15 of Set 11 | lavrentiya\n",
      "Processing Record 16 of Set 11 | morbegno\n",
      "Processing Record 17 of Set 11 | boa vista\n",
      "Processing Record 18 of Set 11 | nha trang\n",
      "Processing Record 19 of Set 11 | pout\n",
      "Processing Record 20 of Set 11 | soderhamn\n",
      "City not found. Skipping...\n",
      "Processing Record 21 of Set 11 | cuiluan\n",
      "Processing Record 22 of Set 11 | norman wells\n",
      "Processing Record 23 of Set 11 | bismarck\n",
      "Processing Record 24 of Set 11 | paita\n",
      "Processing Record 25 of Set 11 | bom jesus\n",
      "Processing Record 26 of Set 11 | chapais\n",
      "Processing Record 27 of Set 11 | saint-francois\n",
      "Processing Record 28 of Set 11 | santo antonio do ica\n",
      "Processing Record 29 of Set 11 | laguna\n",
      "Processing Record 30 of Set 11 | katobu\n",
      "Processing Record 31 of Set 11 | palitana\n",
      "Processing Record 32 of Set 11 | sao felix do xingu\n",
      "Processing Record 33 of Set 11 | vladyslavivka\n",
      "Processing Record 34 of Set 11 | port shepstone\n",
      "Processing Record 35 of Set 11 | baiyin\n",
      "Processing Record 36 of Set 11 | belize\n",
      "Processing Record 37 of Set 11 | batagay-alyta\n",
      "Processing Record 38 of Set 11 | iwanai\n",
      "Processing Record 39 of Set 11 | usinsk\n",
      "Processing Record 40 of Set 11 | guarapari\n",
      "Processing Record 41 of Set 11 | tukrah\n",
      "Processing Record 42 of Set 11 | kaniama\n",
      "Processing Record 43 of Set 11 | yoichi\n",
      "-----------------------------\n",
      "Data Retrieval Complete\n",
      "-----------------------------\n"
     ]
    }
   ],
   "source": [
    "# set up base url with units in imperial\n",
    "url = \"http://api.openweathermap.org/data/2.5/weather?\"\n",
    "units=\"imperial\"\n",
    "query_url=f\"{url}appid={weather_api_key}&units={units}&q=\"\n",
    "\n",
    "\n",
    "# create empty lists to hold data\n",
    "city_list = []\n",
    "lat_list = []\n",
    "lng_list = []\n",
    "maxtemp_list = []\n",
    "humidity_list = []\n",
    "cloudiness_list = []\n",
    "windspeed_list = []\n",
    "country_list = []\n",
    "date_list = []\n",
    "\n",
    "print(\"Beginning Data Retrieval\")\n",
    "print(\"-----------------------------\")\n",
    "\n",
    "# set counters for data looping\n",
    "record = 0\n",
    "sets = 1\n",
    "\n",
    "# gather weather data for cities\n",
    "for index, city in enumerate(cities):\n",
    "    try:\n",
    "        response = requests.get(query_url + city).json()\n",
    "        city_list.append(response[\"name\"])\n",
    "        lat_list.append(response[\"coord\"][\"lat\"])\n",
    "        lng_list.append(response[\"coord\"][\"lon\"])\n",
    "        maxtemp_list.append(response[\"main\"][\"temp_max\"])\n",
    "        humidity_list.append(response[\"main\"][\"humidity\"])\n",
    "        cloudiness_list.append(response[\"clouds\"][\"all\"])\n",
    "        windspeed_list.append(response[\"wind\"][\"speed\"])\n",
    "        country_list.append(response[\"sys\"][\"country\"])\n",
    "        date_list.append(response[\"dt\"])\n",
    "        \n",
    "        #keep adding records and reset when record reaches 50\n",
    "        if record == 50:\n",
    "            record = 0\n",
    "            sets = sets + 1\n",
    "       \n",
    "        else:\n",
    "            record = record + 1\n",
    "        \n",
    "        # print out data\n",
    "        print(f\"Processing Record {record} of Set {sets} | {city}\")\n",
    "        \n",
    "    except:\n",
    "        print(\"City not found. Skipping...\")\n",
    "\n",
    "\n",
    "print(\"-----------------------------\")\n",
    "print(\"Data Retrieval Complete\")\n",
    "print(\"-----------------------------\")\n",
    "\n",
    "\n"
   ]
  },
  {
   "cell_type": "markdown",
   "metadata": {},
   "source": [
    "### Convert Raw Data to DataFrame\n",
    "* Export the city data into a .csv.\n",
    "* Display the DataFrame"
   ]
  },
  {
   "cell_type": "code",
   "execution_count": 4,
   "metadata": {},
   "outputs": [
    {
     "data": {
      "text/html": [
       "<div>\n",
       "<style scoped>\n",
       "    .dataframe tbody tr th:only-of-type {\n",
       "        vertical-align: middle;\n",
       "    }\n",
       "\n",
       "    .dataframe tbody tr th {\n",
       "        vertical-align: top;\n",
       "    }\n",
       "\n",
       "    .dataframe thead th {\n",
       "        text-align: right;\n",
       "    }\n",
       "</style>\n",
       "<table border=\"1\" class=\"dataframe\">\n",
       "  <thead>\n",
       "    <tr style=\"text-align: right;\">\n",
       "      <th></th>\n",
       "      <th>City</th>\n",
       "      <th>Lat</th>\n",
       "      <th>Lng</th>\n",
       "      <th>Max Temp</th>\n",
       "      <th>Humidity</th>\n",
       "      <th>Cloudiness</th>\n",
       "      <th>Wind Speed</th>\n",
       "      <th>Country</th>\n",
       "      <th>Date</th>\n",
       "    </tr>\n",
       "  </thead>\n",
       "  <tbody>\n",
       "    <tr>\n",
       "      <th>0</th>\n",
       "      <td>Flinders</td>\n",
       "      <td>-34.5833</td>\n",
       "      <td>150.8552</td>\n",
       "      <td>65.21</td>\n",
       "      <td>87</td>\n",
       "      <td>23</td>\n",
       "      <td>4.00</td>\n",
       "      <td>AU</td>\n",
       "      <td>1644956338</td>\n",
       "    </tr>\n",
       "    <tr>\n",
       "      <th>1</th>\n",
       "      <td>Sept-Îles</td>\n",
       "      <td>50.2001</td>\n",
       "      <td>-66.3821</td>\n",
       "      <td>8.06</td>\n",
       "      <td>55</td>\n",
       "      <td>75</td>\n",
       "      <td>19.57</td>\n",
       "      <td>CA</td>\n",
       "      <td>1644956338</td>\n",
       "    </tr>\n",
       "    <tr>\n",
       "      <th>2</th>\n",
       "      <td>Albany</td>\n",
       "      <td>42.6001</td>\n",
       "      <td>-73.9662</td>\n",
       "      <td>28.81</td>\n",
       "      <td>49</td>\n",
       "      <td>100</td>\n",
       "      <td>3.00</td>\n",
       "      <td>US</td>\n",
       "      <td>1644956338</td>\n",
       "    </tr>\n",
       "    <tr>\n",
       "      <th>3</th>\n",
       "      <td>Ekibastuz</td>\n",
       "      <td>51.6667</td>\n",
       "      <td>75.3667</td>\n",
       "      <td>0.05</td>\n",
       "      <td>92</td>\n",
       "      <td>75</td>\n",
       "      <td>14.81</td>\n",
       "      <td>KZ</td>\n",
       "      <td>1644956339</td>\n",
       "    </tr>\n",
       "    <tr>\n",
       "      <th>4</th>\n",
       "      <td>Malbork</td>\n",
       "      <td>54.0359</td>\n",
       "      <td>19.0266</td>\n",
       "      <td>45.12</td>\n",
       "      <td>80</td>\n",
       "      <td>100</td>\n",
       "      <td>9.10</td>\n",
       "      <td>PL</td>\n",
       "      <td>1644956339</td>\n",
       "    </tr>\n",
       "  </tbody>\n",
       "</table>\n",
       "</div>"
      ],
      "text/plain": [
       "        City      Lat       Lng  Max Temp  Humidity  Cloudiness  Wind Speed  \\\n",
       "0   Flinders -34.5833  150.8552     65.21        87          23        4.00   \n",
       "1  Sept-Îles  50.2001  -66.3821      8.06        55          75       19.57   \n",
       "2     Albany  42.6001  -73.9662     28.81        49         100        3.00   \n",
       "3  Ekibastuz  51.6667   75.3667      0.05        92          75       14.81   \n",
       "4    Malbork  54.0359   19.0266     45.12        80         100        9.10   \n",
       "\n",
       "  Country        Date  \n",
       "0      AU  1644956338  \n",
       "1      CA  1644956338  \n",
       "2      US  1644956338  \n",
       "3      KZ  1644956339  \n",
       "4      PL  1644956339  "
      ]
     },
     "execution_count": 4,
     "metadata": {},
     "output_type": "execute_result"
    }
   ],
   "source": [
    "# convert to dataframe and set column names\n",
    "df = pd.DataFrame({\n",
    "    \"City\": city_list,\n",
    "    \"Lat\": lat_list,\n",
    "    \"Lng\": lng_list,\n",
    "    \"Max Temp\": maxtemp_list,\n",
    "    \"Humidity\": humidity_list,\n",
    "    \"Cloudiness\": cloudiness_list,\n",
    "    \"Wind Speed\": windspeed_list,\n",
    "    \"Country\": country_list,\n",
    "    \"Date\": date_list\n",
    "})\n",
    "\n",
    "df.reset_index()\n",
    "\n",
    "# send to csv file in output_data directory\n",
    "df.to_csv(\"output_data/city_weather.csv\", index=False)\n",
    "\n",
    "#show output of dataframe\n",
    "df.head()"
   ]
  },
  {
   "cell_type": "code",
   "execution_count": 5,
   "metadata": {},
   "outputs": [
    {
     "data": {
      "text/html": [
       "<div>\n",
       "<style scoped>\n",
       "    .dataframe tbody tr th:only-of-type {\n",
       "        vertical-align: middle;\n",
       "    }\n",
       "\n",
       "    .dataframe tbody tr th {\n",
       "        vertical-align: top;\n",
       "    }\n",
       "\n",
       "    .dataframe thead th {\n",
       "        text-align: right;\n",
       "    }\n",
       "</style>\n",
       "<table border=\"1\" class=\"dataframe\">\n",
       "  <thead>\n",
       "    <tr style=\"text-align: right;\">\n",
       "      <th></th>\n",
       "      <th>Lat</th>\n",
       "      <th>Lng</th>\n",
       "      <th>Max Temp</th>\n",
       "      <th>Humidity</th>\n",
       "      <th>Cloudiness</th>\n",
       "      <th>Wind Speed</th>\n",
       "      <th>Date</th>\n",
       "    </tr>\n",
       "  </thead>\n",
       "  <tbody>\n",
       "    <tr>\n",
       "      <th>count</th>\n",
       "      <td>553.000000</td>\n",
       "      <td>553.000000</td>\n",
       "      <td>553.000000</td>\n",
       "      <td>553.000000</td>\n",
       "      <td>553.000000</td>\n",
       "      <td>553.000000</td>\n",
       "      <td>5.530000e+02</td>\n",
       "    </tr>\n",
       "    <tr>\n",
       "      <th>mean</th>\n",
       "      <td>21.506026</td>\n",
       "      <td>17.730060</td>\n",
       "      <td>49.152423</td>\n",
       "      <td>72.215190</td>\n",
       "      <td>56.236890</td>\n",
       "      <td>8.255986</td>\n",
       "      <td>1.644956e+09</td>\n",
       "    </tr>\n",
       "    <tr>\n",
       "      <th>std</th>\n",
       "      <td>32.685654</td>\n",
       "      <td>87.955808</td>\n",
       "      <td>33.752519</td>\n",
       "      <td>22.191663</td>\n",
       "      <td>40.321982</td>\n",
       "      <td>5.837018</td>\n",
       "      <td>8.734094e+01</td>\n",
       "    </tr>\n",
       "    <tr>\n",
       "      <th>min</th>\n",
       "      <td>-54.800000</td>\n",
       "      <td>-175.200000</td>\n",
       "      <td>-42.810000</td>\n",
       "      <td>9.000000</td>\n",
       "      <td>0.000000</td>\n",
       "      <td>0.000000</td>\n",
       "      <td>1.644956e+09</td>\n",
       "    </tr>\n",
       "    <tr>\n",
       "      <th>25%</th>\n",
       "      <td>-5.089200</td>\n",
       "      <td>-60.279800</td>\n",
       "      <td>29.430000</td>\n",
       "      <td>60.000000</td>\n",
       "      <td>13.000000</td>\n",
       "      <td>3.980000</td>\n",
       "      <td>1.644956e+09</td>\n",
       "    </tr>\n",
       "    <tr>\n",
       "      <th>50%</th>\n",
       "      <td>25.258200</td>\n",
       "      <td>22.507000</td>\n",
       "      <td>61.590000</td>\n",
       "      <td>77.000000</td>\n",
       "      <td>65.000000</td>\n",
       "      <td>6.910000</td>\n",
       "      <td>1.644956e+09</td>\n",
       "    </tr>\n",
       "    <tr>\n",
       "      <th>75%</th>\n",
       "      <td>47.720000</td>\n",
       "      <td>92.265800</td>\n",
       "      <td>76.600000</td>\n",
       "      <td>89.000000</td>\n",
       "      <td>100.000000</td>\n",
       "      <td>11.120000</td>\n",
       "      <td>1.644956e+09</td>\n",
       "    </tr>\n",
       "    <tr>\n",
       "      <th>max</th>\n",
       "      <td>78.218600</td>\n",
       "      <td>179.316700</td>\n",
       "      <td>99.250000</td>\n",
       "      <td>100.000000</td>\n",
       "      <td>100.000000</td>\n",
       "      <td>44.780000</td>\n",
       "      <td>1.644957e+09</td>\n",
       "    </tr>\n",
       "  </tbody>\n",
       "</table>\n",
       "</div>"
      ],
      "text/plain": [
       "              Lat         Lng    Max Temp    Humidity  Cloudiness  Wind Speed  \\\n",
       "count  553.000000  553.000000  553.000000  553.000000  553.000000  553.000000   \n",
       "mean    21.506026   17.730060   49.152423   72.215190   56.236890    8.255986   \n",
       "std     32.685654   87.955808   33.752519   22.191663   40.321982    5.837018   \n",
       "min    -54.800000 -175.200000  -42.810000    9.000000    0.000000    0.000000   \n",
       "25%     -5.089200  -60.279800   29.430000   60.000000   13.000000    3.980000   \n",
       "50%     25.258200   22.507000   61.590000   77.000000   65.000000    6.910000   \n",
       "75%     47.720000   92.265800   76.600000   89.000000  100.000000   11.120000   \n",
       "max     78.218600  179.316700   99.250000  100.000000  100.000000   44.780000   \n",
       "\n",
       "               Date  \n",
       "count  5.530000e+02  \n",
       "mean   1.644956e+09  \n",
       "std    8.734094e+01  \n",
       "min    1.644956e+09  \n",
       "25%    1.644956e+09  \n",
       "50%    1.644956e+09  \n",
       "75%    1.644956e+09  \n",
       "max    1.644957e+09  "
      ]
     },
     "execution_count": 5,
     "metadata": {},
     "output_type": "execute_result"
    }
   ],
   "source": [
    "df.describe()"
   ]
  },
  {
   "cell_type": "markdown",
   "metadata": {},
   "source": [
    "## Inspect the data and remove the cities where the humidity > 100%.\n",
    "----\n",
    "Skip this step if there are no cities that have humidity > 100%. "
   ]
  },
  {
   "cell_type": "code",
   "execution_count": 6,
   "metadata": {},
   "outputs": [
    {
     "name": "stdout",
     "output_type": "stream",
     "text": [
      "[58, 60, 89, 100, 104, 119, 172, 205, 213, 252, 253, 272, 303, 332, 342, 426, 429, 473, 494, 499, 500, 514, 521]\n"
     ]
    }
   ],
   "source": [
    "checkhumidity=df.index[df[\"Humidity\"]>=100].tolist()\n",
    "print(checkhumidity)"
   ]
  },
  {
   "cell_type": "code",
   "execution_count": 7,
   "metadata": {},
   "outputs": [
    {
     "name": "stdout",
     "output_type": "stream",
     "text": [
      "Int64Index([ 58,  60,  89, 100, 104, 119, 172, 205, 213, 252, 253, 272, 303,\n",
      "            332, 342, 426, 429, 473, 494, 499, 500, 514, 521],\n",
      "           dtype='int64')\n"
     ]
    }
   ],
   "source": [
    "#  Get the indices of cities that have humidity over 100%.\n",
    "humiditydrop=df.index[df['Humidity']>=100]\n",
    "print(humiditydrop)"
   ]
  },
  {
   "cell_type": "code",
   "execution_count": 8,
   "metadata": {},
   "outputs": [
    {
     "data": {
      "text/html": [
       "<div>\n",
       "<style scoped>\n",
       "    .dataframe tbody tr th:only-of-type {\n",
       "        vertical-align: middle;\n",
       "    }\n",
       "\n",
       "    .dataframe tbody tr th {\n",
       "        vertical-align: top;\n",
       "    }\n",
       "\n",
       "    .dataframe thead th {\n",
       "        text-align: right;\n",
       "    }\n",
       "</style>\n",
       "<table border=\"1\" class=\"dataframe\">\n",
       "  <thead>\n",
       "    <tr style=\"text-align: right;\">\n",
       "      <th></th>\n",
       "      <th>City</th>\n",
       "      <th>Lat</th>\n",
       "      <th>Lng</th>\n",
       "      <th>Max Temp</th>\n",
       "      <th>Humidity</th>\n",
       "      <th>Cloudiness</th>\n",
       "      <th>Wind Speed</th>\n",
       "      <th>Country</th>\n",
       "      <th>Date</th>\n",
       "    </tr>\n",
       "  </thead>\n",
       "  <tbody>\n",
       "    <tr>\n",
       "      <th>0</th>\n",
       "      <td>Flinders</td>\n",
       "      <td>-34.5833</td>\n",
       "      <td>150.8552</td>\n",
       "      <td>65.21</td>\n",
       "      <td>87</td>\n",
       "      <td>23</td>\n",
       "      <td>4.00</td>\n",
       "      <td>AU</td>\n",
       "      <td>1644956338</td>\n",
       "    </tr>\n",
       "    <tr>\n",
       "      <th>1</th>\n",
       "      <td>Sept-Îles</td>\n",
       "      <td>50.2001</td>\n",
       "      <td>-66.3821</td>\n",
       "      <td>8.06</td>\n",
       "      <td>55</td>\n",
       "      <td>75</td>\n",
       "      <td>19.57</td>\n",
       "      <td>CA</td>\n",
       "      <td>1644956338</td>\n",
       "    </tr>\n",
       "    <tr>\n",
       "      <th>2</th>\n",
       "      <td>Albany</td>\n",
       "      <td>42.6001</td>\n",
       "      <td>-73.9662</td>\n",
       "      <td>28.81</td>\n",
       "      <td>49</td>\n",
       "      <td>100</td>\n",
       "      <td>3.00</td>\n",
       "      <td>US</td>\n",
       "      <td>1644956338</td>\n",
       "    </tr>\n",
       "    <tr>\n",
       "      <th>3</th>\n",
       "      <td>Ekibastuz</td>\n",
       "      <td>51.6667</td>\n",
       "      <td>75.3667</td>\n",
       "      <td>0.05</td>\n",
       "      <td>92</td>\n",
       "      <td>75</td>\n",
       "      <td>14.81</td>\n",
       "      <td>KZ</td>\n",
       "      <td>1644956339</td>\n",
       "    </tr>\n",
       "    <tr>\n",
       "      <th>4</th>\n",
       "      <td>Malbork</td>\n",
       "      <td>54.0359</td>\n",
       "      <td>19.0266</td>\n",
       "      <td>45.12</td>\n",
       "      <td>80</td>\n",
       "      <td>100</td>\n",
       "      <td>9.10</td>\n",
       "      <td>PL</td>\n",
       "      <td>1644956339</td>\n",
       "    </tr>\n",
       "    <tr>\n",
       "      <th>...</th>\n",
       "      <td>...</td>\n",
       "      <td>...</td>\n",
       "      <td>...</td>\n",
       "      <td>...</td>\n",
       "      <td>...</td>\n",
       "      <td>...</td>\n",
       "      <td>...</td>\n",
       "      <td>...</td>\n",
       "      <td>...</td>\n",
       "    </tr>\n",
       "    <tr>\n",
       "      <th>548</th>\n",
       "      <td>Usinsk</td>\n",
       "      <td>65.9939</td>\n",
       "      <td>57.5281</td>\n",
       "      <td>19.27</td>\n",
       "      <td>95</td>\n",
       "      <td>100</td>\n",
       "      <td>15.88</td>\n",
       "      <td>RU</td>\n",
       "      <td>1644956549</td>\n",
       "    </tr>\n",
       "    <tr>\n",
       "      <th>549</th>\n",
       "      <td>Guarapari</td>\n",
       "      <td>-20.6667</td>\n",
       "      <td>-40.4975</td>\n",
       "      <td>76.89</td>\n",
       "      <td>90</td>\n",
       "      <td>100</td>\n",
       "      <td>5.68</td>\n",
       "      <td>BR</td>\n",
       "      <td>1644956454</td>\n",
       "    </tr>\n",
       "    <tr>\n",
       "      <th>550</th>\n",
       "      <td>Tūkrah</td>\n",
       "      <td>32.5341</td>\n",
       "      <td>20.5791</td>\n",
       "      <td>56.30</td>\n",
       "      <td>62</td>\n",
       "      <td>87</td>\n",
       "      <td>6.40</td>\n",
       "      <td>LY</td>\n",
       "      <td>1644956549</td>\n",
       "    </tr>\n",
       "    <tr>\n",
       "      <th>551</th>\n",
       "      <td>Kaniama</td>\n",
       "      <td>-7.5667</td>\n",
       "      <td>24.1833</td>\n",
       "      <td>65.41</td>\n",
       "      <td>95</td>\n",
       "      <td>94</td>\n",
       "      <td>3.09</td>\n",
       "      <td>CD</td>\n",
       "      <td>1644956550</td>\n",
       "    </tr>\n",
       "    <tr>\n",
       "      <th>552</th>\n",
       "      <td>Yoichi</td>\n",
       "      <td>43.2039</td>\n",
       "      <td>140.7703</td>\n",
       "      <td>23.04</td>\n",
       "      <td>89</td>\n",
       "      <td>100</td>\n",
       "      <td>13.44</td>\n",
       "      <td>JP</td>\n",
       "      <td>1644956550</td>\n",
       "    </tr>\n",
       "  </tbody>\n",
       "</table>\n",
       "<p>530 rows × 9 columns</p>\n",
       "</div>"
      ],
      "text/plain": [
       "          City      Lat       Lng  Max Temp  Humidity  Cloudiness  Wind Speed  \\\n",
       "0     Flinders -34.5833  150.8552     65.21        87          23        4.00   \n",
       "1    Sept-Îles  50.2001  -66.3821      8.06        55          75       19.57   \n",
       "2       Albany  42.6001  -73.9662     28.81        49         100        3.00   \n",
       "3    Ekibastuz  51.6667   75.3667      0.05        92          75       14.81   \n",
       "4      Malbork  54.0359   19.0266     45.12        80         100        9.10   \n",
       "..         ...      ...       ...       ...       ...         ...         ...   \n",
       "548     Usinsk  65.9939   57.5281     19.27        95         100       15.88   \n",
       "549  Guarapari -20.6667  -40.4975     76.89        90         100        5.68   \n",
       "550     Tūkrah  32.5341   20.5791     56.30        62          87        6.40   \n",
       "551    Kaniama  -7.5667   24.1833     65.41        95          94        3.09   \n",
       "552     Yoichi  43.2039  140.7703     23.04        89         100       13.44   \n",
       "\n",
       "    Country        Date  \n",
       "0        AU  1644956338  \n",
       "1        CA  1644956338  \n",
       "2        US  1644956338  \n",
       "3        KZ  1644956339  \n",
       "4        PL  1644956339  \n",
       "..      ...         ...  \n",
       "548      RU  1644956549  \n",
       "549      BR  1644956454  \n",
       "550      LY  1644956549  \n",
       "551      CD  1644956550  \n",
       "552      JP  1644956550  \n",
       "\n",
       "[530 rows x 9 columns]"
      ]
     },
     "execution_count": 8,
     "metadata": {},
     "output_type": "execute_result"
    }
   ],
   "source": [
    "# Make a new DataFrame equal to the city data to drop all humidity outliers by index.\n",
    "# Passing \"inplace=False\" will make a copy of the city_data DataFrame, which we call \"clean_city_data\".\n",
    "clean_city_data=df.drop(humiditydrop, inplace=False)\n",
    "clean_city_data"
   ]
  },
  {
   "cell_type": "markdown",
   "metadata": {},
   "source": [
    "## Plotting the Data\n",
    "* Use proper labeling of the plots using plot titles (including date of analysis) and axes labels.\n",
    "* Save the plotted figures as .pngs."
   ]
  },
  {
   "cell_type": "markdown",
   "metadata": {},
   "source": [
    "## Latitude vs. Temperature Plot"
   ]
  },
  {
   "cell_type": "code",
   "execution_count": 9,
   "metadata": {},
   "outputs": [
    {
     "data": {
      "image/png": "[encoded data removed]",
      "text/plain": [
       "<Figure size 432x288 with 1 Axes>"
      ]
     },
     "metadata": {
      "needs_background": "light"
     },
     "output_type": "display_data"
    }
   ],
   "source": [
    "#Create scatter plot for latitude vs. max temp\n",
    "plt.scatter(df[\"Lat\"], df[\"Max Temp\"],facecolor=\"cadetblue\", edgecolor=\"b\")\n",
    "\n",
    "#add details to plot\n",
    "plt.title(\"City Latitude vs. Max Temperature (02/14/2022)\")\n",
    "plt.xlabel(\"Latitude\")\n",
    "plt.ylabel(\"Max Temperature (F)\")\n",
    "plt.grid(alpha=0.25)\n",
    "\n",
    "#save plot to png file\n",
    "plt.savefig(\"output_data/lat_vs_temp_plot.png\")"
   ]
  },
  {
   "cell_type": "markdown",
   "metadata": {},
   "source": [
    "The plot shows that there is a relationship with latitude location and max temperature. Most of the highest max temperature plots are close to 0 latitude, the equator where the sun is most directly focused. The lowest max temperature plots are located at latitude locations of >40. Suggesting that that part of the Earth has the lowest max temperatues. "
   ]
  },
  {
   "cell_type": "markdown",
   "metadata": {},
   "source": [
    "## Latitude vs. Humidity Plot"
   ]
  },
  {
   "cell_type": "code",
   "execution_count": 10,
   "metadata": {},
   "outputs": [
    {
     "data": {
      "image/png": "[encoded data removed]",
      "text/plain": [
       "<Figure size 432x288 with 1 Axes>"
      ]
     },
     "metadata": {
      "needs_background": "light"
     },
     "output_type": "display_data"
    }
   ],
   "source": [
    "#Create scatter plot for latitude vs. max temp\n",
    "plt.scatter(df[\"Lat\"], df[\"Humidity\"],facecolor=\"cadetblue\", edgecolor=\"b\")\n",
    "\n",
    "#add details to plot\n",
    "plt.title(\"City Latitude vs. Humidity (02/14/2022)\")\n",
    "plt.xlabel(\"Latitude\")\n",
    "plt.ylabel(\"Humidity(%)\")\n",
    "plt.grid(alpha=0.25)\n",
    "\n",
    "#save plot to png file\n",
    "plt.savefig(\"output_data/lat_vs_humidity_plot.png\")"
   ]
  },
  {
   "cell_type": "markdown",
   "metadata": {},
   "source": [
    "The city plots don't appear to show a trend, thus no ture relationship between latitude and humidity. "
   ]
  },
  {
   "cell_type": "markdown",
   "metadata": {},
   "source": [
    "## Latitude vs. Cloudiness Plot"
   ]
  },
  {
   "cell_type": "code",
   "execution_count": 11,
   "metadata": {},
   "outputs": [
    {
     "data": {
      "image/png": "[encoded data removed]",
      "text/plain": [
       "<Figure size 432x288 with 1 Axes>"
      ]
     },
     "metadata": {
      "needs_background": "light"
     },
     "output_type": "display_data"
    }
   ],
   "source": [
    "#Create scatter plot for latitude vs. max temp\n",
    "plt.scatter(df[\"Lat\"], df[\"Cloudiness\"],facecolor=\"cadetblue\", edgecolor=\"b\")\n",
    "\n",
    "#add details to plot\n",
    "plt.title(\"City Latitude vs. Cloudiness (02/14/2022)\")\n",
    "plt.xlabel(\"Latitude\")\n",
    "plt.ylabel(\"Cloudiness (%)\")\n",
    "plt.grid(alpha=0.25)\n",
    "\n",
    "#save plot to png file\n",
    "plt.savefig(\"output_data/lat_vs_cloudiness_plot.png\")"
   ]
  },
  {
   "cell_type": "markdown",
   "metadata": {},
   "source": [
    "The city plots don't appear to show a trend, thus no ture relationship between latitude and cloudiness. "
   ]
  },
  {
   "cell_type": "markdown",
   "metadata": {},
   "source": [
    "## Latitude vs. Wind Speed Plot"
   ]
  },
  {
   "cell_type": "code",
   "execution_count": 12,
   "metadata": {},
   "outputs": [
    {
     "data": {
      "image/png": "[encoded data removed]",
      "text/plain": [
       "<Figure size 432x288 with 1 Axes>"
      ]
     },
     "metadata": {
      "needs_background": "light"
     },
     "output_type": "display_data"
    }
   ],
   "source": [
    "#Create scatter plot for latitude vs. max temp\n",
    "plt.scatter(df[\"Lat\"], df[\"Wind Speed\"],facecolor=\"cadetblue\", edgecolor=\"b\")\n",
    "\n",
    "#add details to plot\n",
    "plt.title(\"City Latitude vs. Wind Speed (02/14/2022)\")\n",
    "plt.xlabel(\"Latitude\")\n",
    "plt.ylabel(\"Wind Speed (mph)\")\n",
    "plt.grid(alpha=0.25)\n",
    "\n",
    "#save plot to png file\n",
    "plt.savefig(\"output_data/lat_vs_wind_plot.png\")"
   ]
  },
  {
   "cell_type": "markdown",
   "metadata": {},
   "source": [
    "The city plots appeart to have similar wind speeds no matter the latitude location."
   ]
  },
  {
   "cell_type": "markdown",
   "metadata": {},
   "source": [
    "## Linear Regression"
   ]
  },
  {
   "cell_type": "code",
   "execution_count": 13,
   "metadata": {},
   "outputs": [],
   "source": [
    "north_hem = df.loc[df[\"Lat\"] >= 0, :]\n",
    "south_hem = df.loc[df[\"Lat\"] < 0, :]"
   ]
  },
  {
   "cell_type": "markdown",
   "metadata": {},
   "source": [
    "####  Northern Hemisphere - Max Temp vs. Latitude Linear Regression"
   ]
  },
  {
   "cell_type": "code",
   "execution_count": 14,
   "metadata": {},
   "outputs": [
    {
     "name": "stdout",
     "output_type": "stream",
     "text": [
      "The r-value is: 0.7438778264451897\n"
     ]
    },
    {
     "data": {
      "image/png": "[encoded data removed]",
      "text/plain": [
       "<Figure size 432x288 with 1 Axes>"
      ]
     },
     "metadata": {
      "needs_background": "light"
     },
     "output_type": "display_data"
    }
   ],
   "source": [
    "x_values= north_hem[\"Lat\"]\n",
    "y_values= north_hem[\"Max Temp\"]\n",
    "(slope, intercept, rvalue, pvalue, stderr) = linregress(x_values, y_values)\n",
    "regress_values=x_values * slope + intercept\n",
    "line_eq=\"y= \" + str(round(slope,2)) + \"x + \" + str(round(intercept, 2))\n",
    "plt.scatter(x_values, y_values)\n",
    "plt.plot(x_values, regress_values, \"r-\")\n",
    "plt.annotate(line_eq, (6,-40), fontsize=15, color=\"red\")\n",
    "plt.xlabel(\"Latitude\")\n",
    "plt.ylabel(\"Max Temp\")\n",
    "print(f\"The r-value is: {rvalue**2}\")\n",
    "plt.savefig(\"output_data/north_hem_temp_v_lat_plot.png\")\n",
    "plt.show()"
   ]
  },
  {
   "cell_type": "markdown",
   "metadata": {},
   "source": [
    "The appears to be a strong negative correlation between latitude and max temp in the northern hemisphere.  The r- value of 0.74 suggests that the relation is strong which means max temp relates well with the city's latitude location."
   ]
  },
  {
   "cell_type": "markdown",
   "metadata": {},
   "source": [
    "####  Southern Hemisphere - Max Temp vs. Latitude Linear Regression"
   ]
  },
  {
   "cell_type": "code",
   "execution_count": 16,
   "metadata": {},
   "outputs": [
    {
     "name": "stdout",
     "output_type": "stream",
     "text": [
      "The r-value is: 0.1471870856556408\n"
     ]
    },
    {
     "data": {
      "image/png": "[encoded data removed]",
      "text/plain": [
       "<Figure size 432x288 with 1 Axes>"
      ]
     },
     "metadata": {
      "needs_background": "light"
     },
     "output_type": "display_data"
    }
   ],
   "source": [
    "x_values= south_hem[\"Lat\"]\n",
    "y_values= south_hem[\"Max Temp\"]\n",
    "(slope, intercept, rvalue, pvalue, stderr) = linregress(x_values, y_values)\n",
    "regress_values=x_values * slope + intercept\n",
    "line_eq=\"y= \" + str(round(slope,2)) + \"x + \" + str(round(intercept, 2))\n",
    "plt.scatter(x_values, y_values)\n",
    "plt.plot(x_values, regress_values, \"r-\")\n",
    "plt.annotate(line_eq, (-55,90), fontsize=15, color=\"red\")\n",
    "plt.xlabel(\"Latitude\")\n",
    "plt.ylabel(\"Max Temp\")\n",
    "print(f\"The r-value is: {rvalue**2}\")\n",
    "plt.savefig(\"output_data/south_hem_temp_v_lat_plot.png\")\n",
    "plt.show()"
   ]
  },
  {
   "cell_type": "markdown",
   "metadata": {},
   "source": [
    "There appears to be a weak positive correlation between the southern hemisphere's latitude and max temp. The r-value of 0.14 points to the relationship being weak and not as strong as the northern hemisphere's correlation. However, as the latitude decreases, max temps appear to decrease also."
   ]
  },
  {
   "cell_type": "markdown",
   "metadata": {},
   "source": [
    "####  Northern Hemisphere - Humidity (%) vs. Latitude Linear Regression"
   ]
  },
  {
   "cell_type": "code",
   "execution_count": 23,
   "metadata": {},
   "outputs": [
    {
     "name": "stdout",
     "output_type": "stream",
     "text": [
      "The r-value is: 0.17487732538256195\n"
     ]
    },
    {
     "data": {
      "image/png": "[encoded data removed]",
      "text/plain": [
       "<Figure size 432x288 with 1 Axes>"
      ]
     },
     "metadata": {
      "needs_background": "light"
     },
     "output_type": "display_data"
    }
   ],
   "source": [
    "x_values= north_hem[\"Lat\"]\n",
    "y_values= north_hem[\"Humidity\"]\n",
    "(slope, intercept, rvalue, pvalue, stderr) = linregress(x_values, y_values)\n",
    "regress_values=x_values * slope + intercept\n",
    "line_eq=\"y= \" + str(round(slope,2)) + \"x + \" + str(round(intercept, 2))\n",
    "plt.scatter(x_values, y_values)\n",
    "plt.plot(x_values, regress_values, \"r-\")\n",
    "plt.annotate(line_eq, (40,20), fontsize=15, color=\"red\")\n",
    "plt.xlabel(\"Latitude\")\n",
    "plt.ylabel(\"Humidity\")\n",
    "print(f\"The r-value is: {rvalue**2}\")\n",
    "plt.savefig(\"output_data/north_hem_humudity_v_lat_plot.png\")\n",
    "plt.show()"
   ]
  },
  {
   "cell_type": "markdown",
   "metadata": {},
   "source": [
    "The city plots have a weak positive correlation between the latitude location and humidity."
   ]
  },
  {
   "cell_type": "markdown",
   "metadata": {},
   "source": [
    "####  Southern Hemisphere - Humidity (%) vs. Latitude Linear Regression"
   ]
  },
  {
   "cell_type": "code",
   "execution_count": 24,
   "metadata": {},
   "outputs": [
    {
     "name": "stdout",
     "output_type": "stream",
     "text": [
      "The r-value is: 0.11868825730116644\n"
     ]
    },
    {
     "data": {
      "image/png": "[encoded data removed]",
      "text/plain": [
       "<Figure size 432x288 with 1 Axes>"
      ]
     },
     "metadata": {
      "needs_background": "light"
     },
     "output_type": "display_data"
    }
   ],
   "source": [
    "x_values= south_hem[\"Lat\"]\n",
    "y_values= south_hem[\"Humidity\"]\n",
    "(slope, intercept, rvalue, pvalue, stderr) = linregress(x_values, y_values)\n",
    "regress_values=x_values * slope + intercept\n",
    "line_eq=\"y= \" + str(round(slope,2)) + \"x + \" + str(round(intercept, 2))\n",
    "plt.scatter(x_values, y_values)\n",
    "plt.plot(x_values, regress_values, \"r-\")\n",
    "plt.annotate(line_eq, (-25,20), fontsize=15, color=\"red\")\n",
    "plt.xlabel(\"Latitude\")\n",
    "plt.ylabel(\"Humidity\")\n",
    "print(f\"The r-value is: {rvalue**2}\")\n",
    "plt.savefig(\"output_data/south_hem_humudity_v_lat_plot.png\")\n",
    "plt.show()"
   ]
  },
  {
   "cell_type": "markdown",
   "metadata": {},
   "source": [
    "The southern hemisphere appears to have no correlation between city latitude and humidity. The r-value of 0.11 is less than the northern hemisphere's r-value. Thus, the southern hemisphere's latitude relationship with humidity is weaker. "
   ]
  },
  {
   "cell_type": "markdown",
   "metadata": {},
   "source": [
    "####  Northern Hemisphere - Cloudiness (%) vs. Latitude Linear Regression"
   ]
  },
  {
   "cell_type": "code",
   "execution_count": 25,
   "metadata": {},
   "outputs": [
    {
     "name": "stdout",
     "output_type": "stream",
     "text": [
      "The r-value is: 0.03454573752650413\n"
     ]
    },
    {
     "data": {
      "image/png": "[encoded data removed]",
      "text/plain": [
       "<Figure size 432x288 with 1 Axes>"
      ]
     },
     "metadata": {
      "needs_background": "light"
     },
     "output_type": "display_data"
    }
   ],
   "source": [
    "x_values= north_hem[\"Lat\"]\n",
    "y_values= north_hem[\"Cloudiness\"]\n",
    "(slope, intercept, rvalue, pvalue, stderr) = linregress(x_values, y_values)\n",
    "regress_values=x_values * slope + intercept\n",
    "line_eq=\"y= \" + str(round(slope,2)) + \"x + \" + str(round(intercept, 2))\n",
    "plt.scatter(x_values, y_values)\n",
    "plt.plot(x_values, regress_values, \"r-\")\n",
    "plt.annotate(line_eq, (40,10), fontsize=15, color=\"red\")\n",
    "plt.xlabel(\"Latitude\")\n",
    "plt.ylabel(\"Cloudiness\")\n",
    "print(f\"The r-value is: {rvalue**2}\")\n",
    "plt.savefig(\"output_data/north_hem_cloudiness_v_lat_plot.png\")\n",
    "plt.show()"
   ]
  },
  {
   "cell_type": "markdown",
   "metadata": {},
   "source": [
    "The northern hemisphere appears to have no correlation between latitude and cloudiness. "
   ]
  },
  {
   "cell_type": "markdown",
   "metadata": {},
   "source": [
    "####  Southern Hemisphere - Cloudiness (%) vs. Latitude Linear Regression"
   ]
  },
  {
   "cell_type": "code",
   "execution_count": 26,
   "metadata": {},
   "outputs": [
    {
     "name": "stdout",
     "output_type": "stream",
     "text": [
      "The r-value is: 0.08639153599722811\n"
     ]
    },
    {
     "data": {
      "image/png": "[encoded data removed]",
      "text/plain": [
       "<Figure size 432x288 with 1 Axes>"
      ]
     },
     "metadata": {
      "needs_background": "light"
     },
     "output_type": "display_data"
    }
   ],
   "source": [
    "x_values= south_hem[\"Lat\"]\n",
    "y_values= south_hem[\"Cloudiness\"]\n",
    "(slope, intercept, rvalue, pvalue, stderr) = linregress(x_values, y_values)\n",
    "regress_values=x_values * slope + intercept\n",
    "line_eq=\"y= \" + str(round(slope,2)) + \"x + \" + str(round(intercept, 2))\n",
    "plt.scatter(x_values, y_values)\n",
    "plt.plot(x_values, regress_values, \"r-\")\n",
    "plt.annotate(line_eq, (-25,30), fontsize=15, color=\"red\")\n",
    "plt.xlabel(\"Latitude\")\n",
    "plt.ylabel(\"Cloudiness\")\n",
    "print(f\"The r-value is: {rvalue**2}\")\n",
    "plt.savefig(\"output_data/south_hem_cloudiness_v_lat_plot.png\")\n",
    "plt.show()"
   ]
  },
  {
   "cell_type": "markdown",
   "metadata": {},
   "source": [
    "The southern hemisphere also appears to have no correlation between latitude and cloudiness. "
   ]
  },
  {
   "cell_type": "markdown",
   "metadata": {},
   "source": [
    "####  Northern Hemisphere - Wind Speed (mph) vs. Latitude Linear Regression"
   ]
  },
  {
   "cell_type": "code",
   "execution_count": 27,
   "metadata": {},
   "outputs": [
    {
     "name": "stdout",
     "output_type": "stream",
     "text": [
      "The r-value is: 0.001055258860934247\n"
     ]
    },
    {
     "data": {
      "image/png": "[encoded data removed]",
      "text/plain": [
       "<Figure size 432x288 with 1 Axes>"
      ]
     },
     "metadata": {
      "needs_background": "light"
     },
     "output_type": "display_data"
    }
   ],
   "source": [
    "x_values= north_hem[\"Lat\"]\n",
    "y_values= north_hem[\"Wind Speed\"]\n",
    "(slope, intercept, rvalue, pvalue, stderr) = linregress(x_values, y_values)\n",
    "regress_values=x_values * slope + intercept\n",
    "line_eq=\"y= \" + str(round(slope,2)) + \"x + \" + str(round(intercept, 2))\n",
    "plt.scatter(x_values, y_values)\n",
    "plt.plot(x_values, regress_values, \"r-\")\n",
    "plt.annotate(line_eq, (40,40), fontsize=15, color=\"red\")\n",
    "plt.xlabel(\"Latitude\")\n",
    "plt.ylabel(\"Wind Speed\")\n",
    "print(f\"The r-value is: {rvalue**2}\")\n",
    "plt.savefig(\"output_data/north_hem_wind_v_lat_plot.png\")\n",
    "plt.show()"
   ]
  },
  {
   "cell_type": "markdown",
   "metadata": {},
   "source": [
    "The northern hemisphere appears to have no correlation between latitude and cloudiness. "
   ]
  },
  {
   "cell_type": "markdown",
   "metadata": {},
   "source": [
    "####  Southern Hemisphere - Wind Speed (mph) vs. Latitude Linear Regression"
   ]
  },
  {
   "cell_type": "code",
   "execution_count": 28,
   "metadata": {},
   "outputs": [
    {
     "name": "stdout",
     "output_type": "stream",
     "text": [
      "The r-value is: 0.12348191053851167\n"
     ]
    },
    {
     "data": {
      "image/png": "[encoded data removed]",
      "text/plain": [
       "<Figure size 432x288 with 1 Axes>"
      ]
     },
     "metadata": {
      "needs_background": "light"
     },
     "output_type": "display_data"
    }
   ],
   "source": [
    "x_values= south_hem[\"Lat\"]\n",
    "y_values= south_hem[\"Wind Speed\"]\n",
    "(slope, intercept, rvalue, pvalue, stderr) = linregress(x_values, y_values)\n",
    "regress_values=x_values * slope + intercept\n",
    "line_eq=\"y= \" + str(round(slope,2)) + \"x + \" + str(round(intercept, 2))\n",
    "plt.scatter(x_values, y_values)\n",
    "plt.plot(x_values, regress_values, \"r-\")\n",
    "plt.annotate(line_eq, (-50,20), fontsize=15, color=\"red\")\n",
    "plt.xlabel(\"Latitude\")\n",
    "plt.ylabel(\"Wind Speed\")\n",
    "print(f\"The r-value is: {rvalue**2}\")\n",
    "plt.savefig(\"output_data/south_hem_wind_v_lat_plot.png\")\n",
    "plt.show()\n"
   ]
  },
  {
   "cell_type": "markdown",
   "metadata": {},
   "source": [
    "The southern hemisphere aslo appears to have no correlation between latitude and cloudiness. "
   ]
  },
  {
   "cell_type": "code",
   "execution_count": null,
   "metadata": {},
   "outputs": [],
   "source": []
  }
 ],
 "metadata": {
  "anaconda-cloud": {},
  "kernel_info": {
   "name": "python3"
  },
  "kernelspec": {
   "display_name": "Python 3",
   "language": "python",
   "name": "python3"
  },
  "language_info": {
   "codemirror_mode": {
    "name": "ipython",
    "version": 3
   },
   "file_extension": ".py",
   "mimetype": "text/x-python",
   "name": "python",
   "nbconvert_exporter": "python",
   "pygments_lexer": "ipython3",
   "version": "3.8.5"
  },
  "latex_envs": {
   "LaTeX_envs_menu_present": true,
   "autoclose": false,
   "autocomplete": true,
   "bibliofile": "biblio.bib",
   "cite_by": "apalike",
   "current_citInitial": 1,
   "eqLabelWithNumbers": true,
   "eqNumInitial": 1,
   "hotkeys": {
    "equation": "Ctrl-E",
    "itemize": "Ctrl-I"
   },
   "labels_anchors": false,
   "latex_user_defs": false,
   "report_style_numbering": false,
   "user_envs_cfg": false
  },
  "nteract": {
   "version": "0.12.3"
  }
 },
 "nbformat": 4,
 "nbformat_minor": 2
}
